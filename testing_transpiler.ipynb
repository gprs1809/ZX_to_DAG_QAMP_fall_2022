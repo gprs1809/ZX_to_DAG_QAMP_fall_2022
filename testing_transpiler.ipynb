{
 "cells": [
  {
   "cell_type": "code",
   "execution_count": 1,
   "id": "cf59eb34",
   "metadata": {},
   "outputs": [],
   "source": [
    "import unittest\n",
    "import numpy as np\n",
    "from qiskit import QuantumCircuit, execute, Aer, IBMQ, QuantumRegister, ClassicalRegister\n",
    "from qiskit.transpiler import PassManager\n",
    "from qiskit.converters import circuit_to_dag, dag_to_circuit\n",
    "from qiskit.compiler import transpile, assemble\n",
    "from qiskit.tools.jupyter import *\n",
    "from qiskit.visualization import *\n",
    "import qiskit\n",
    "from qiskit.tools.visualization import dag_drawer\n",
    "import pyzx as zx\n",
    "import fractions\n",
    "from copy import copy\n",
    "from qiskit.transpiler.basepasses import TransformationPass\n",
    "from qiskit.transpiler import Layout\n",
    "from qiskit.circuit.library import SwapGate\n",
    "from typing import List, Callable, Optional, Union\n",
    "from qiskit.test import QiskitTestCase"
   ]
  },
  {
   "cell_type": "code",
   "execution_count": 2,
   "id": "46379662",
   "metadata": {},
   "outputs": [],
   "source": [
    "from ZX_to_DAG import zx_to_dag, get_unitary_matrix,matrix_equality\n",
    "# from Pass_ZX_to_dag import ZX_dag_pass"
   ]
  },
  {
   "cell_type": "code",
   "execution_count": 4,
   "id": "5ee1fe6d",
   "metadata": {},
   "outputs": [
    {
     "data": {
      "text/plain": [
       "<qiskit.circuit.instructionset.InstructionSet at 0x1b8c347e310>"
      ]
     },
     "execution_count": 4,
     "metadata": {},
     "output_type": "execute_result"
    }
   ],
   "source": [
    "qc=QuantumCircuit(3)\n",
    "qc.h(0)\n",
    "qc.cx(0,1)\n",
    "qc.cx(0,2)"
   ]
  },
  {
   "cell_type": "code",
   "execution_count": 5,
   "id": "40e0ec3a",
   "metadata": {},
   "outputs": [],
   "source": [
    "simulator = Aer.get_backend('aer_simulator')\n",
    "qc1 = transpile(qc, simulator,optimization_level=0,basis_gates=['u3','cx'])"
   ]
  },
  {
   "cell_type": "code",
   "execution_count": 6,
   "id": "67bd8b21",
   "metadata": {},
   "outputs": [],
   "source": [
    "g=zx.qasm(qc1.qasm())"
   ]
  },
  {
   "cell_type": "code",
   "execution_count": 7,
   "id": "3efeb2a2",
   "metadata": {},
   "outputs": [],
   "source": [
    "mat1=get_unitary_matrix(qc1)"
   ]
  },
  {
   "cell_type": "code",
   "execution_count": 8,
   "id": "db1ec923",
   "metadata": {},
   "outputs": [
    {
     "name": "stdout",
     "output_type": "stream",
     "text": [
      "y2\n",
      "HAD(0)\n",
      "CNOT(0,1)\n",
      "CNOT(0,2)\n"
     ]
    }
   ],
   "source": [
    "d=zx_to_dag(g)"
   ]
  },
  {
   "cell_type": "code",
   "execution_count": 9,
   "id": "b39a3655",
   "metadata": {},
   "outputs": [
    {
     "data": {
      "text/plain": [
       "Circuit(3 qubits, 0 bits, 7 gates)"
      ]
     },
     "execution_count": 9,
     "metadata": {},
     "output_type": "execute_result"
    }
   ],
   "source": [
    "g"
   ]
  },
  {
   "cell_type": "code",
   "execution_count": 10,
   "id": "87e22799",
   "metadata": {},
   "outputs": [],
   "source": [
    "from copy import copy\n",
    "from qiskit.transpiler.basepasses import TransformationPass\n",
    "from qiskit.transpiler import Layout\n",
    "from qiskit.circuit.library import SwapGate\n",
    "from typing import List, Callable, Optional, Union\n",
    "import qiskit\n",
    "import pyzx as zx\n",
    "from ZX_to_DAG import zx_to_dag, get_unitary_matrix\n",
    "\n",
    "class ZXSwap(TransformationPass):\n",
    "    \"\"\"converts from ZX diagrams to Qiskit DAG circuits and DAGs to ZX diagrams\"\"\"\n",
    "\n",
    "    def run(self, obj: Union[qiskit.circuit.quantumcircuit.QuantumCircuit,zx.graph.graph_s.GraphS, zx.circuit.Circuit,\n",
    "                            qiskit.dagcircuit.dagcircuit.DAGCircuit]):\n",
    "        \n",
    "        \"\"\"\n",
    "        Args:\n",
    "            obj: Could be ZX circuits or spiders/diagrams or qiskit circuits or qiskit DAGs\n",
    "        \"\"\"\n",
    "        \n",
    "        if (isinstance(obj,qiskit.circuit.quantumcircuit.QuantumCircuit) or isinstance(obj,qiskit.dagcircuit.dagcircuit.DAGCircuit)):\n",
    "            print('to be added soon')\n",
    "        \n",
    "        if (isinstance(obj,zx.graph.graph_s.GraphS) or isinstance(obj,zx.circuit.Circuit)):\n",
    "            dag=zx_to_dag(obj)\n",
    "\n",
    "        return dag"
   ]
  },
  {
   "cell_type": "code",
   "execution_count": 11,
   "id": "2a0f67e3",
   "metadata": {},
   "outputs": [],
   "source": [
    "obj = ZXSwap()"
   ]
  },
  {
   "cell_type": "code",
   "execution_count": 12,
   "id": "1ce13ab8",
   "metadata": {},
   "outputs": [
    {
     "name": "stdout",
     "output_type": "stream",
     "text": [
      "y2\n",
      "HAD(0)\n",
      "CNOT(0,1)\n",
      "CNOT(0,2)\n"
     ]
    },
    {
     "data": {
      "text/plain": [
       "<qiskit.dagcircuit.dagcircuit.DAGCircuit at 0x1b8fbc8ea90>"
      ]
     },
     "execution_count": 12,
     "metadata": {},
     "output_type": "execute_result"
    }
   ],
   "source": [
    "obj.run(g)"
   ]
  },
  {
   "cell_type": "code",
   "execution_count": 14,
   "id": "4a2627fe",
   "metadata": {},
   "outputs": [],
   "source": [
    "# obj = ZX_dag_pass.ZX_dag_pass()\n",
    "# d1=obj.run(g)"
   ]
  },
  {
   "cell_type": "code",
   "execution_count": 15,
   "id": "020f74e6",
   "metadata": {},
   "outputs": [],
   "source": [
    "qc2=dag_to_circuit(d)"
   ]
  },
  {
   "cell_type": "code",
   "execution_count": 16,
   "id": "a0119209",
   "metadata": {},
   "outputs": [],
   "source": [
    "mat2=get_unitary_matrix(qc2)"
   ]
  },
  {
   "cell_type": "code",
   "execution_count": 17,
   "id": "23dc60ba",
   "metadata": {},
   "outputs": [
    {
     "data": {
      "text/plain": [
       "array([[ 0.70710678+0.j,  0.70710678-0.j,  0.        +0.j,\n",
       "         0.        +0.j,  0.        +0.j,  0.        +0.j,\n",
       "         0.        +0.j,  0.        +0.j],\n",
       "       [ 0.        +0.j,  0.        +0.j,  0.        +0.j,\n",
       "         0.        +0.j,  0.        +0.j,  0.        +0.j,\n",
       "         0.70710678+0.j, -0.70710678+0.j],\n",
       "       [ 0.        +0.j,  0.        +0.j,  0.70710678+0.j,\n",
       "         0.70710678-0.j,  0.        +0.j,  0.        +0.j,\n",
       "         0.        +0.j,  0.        +0.j],\n",
       "       [ 0.        +0.j,  0.        +0.j,  0.        +0.j,\n",
       "         0.        +0.j,  0.70710678+0.j, -0.70710678+0.j,\n",
       "         0.        +0.j,  0.        +0.j],\n",
       "       [ 0.        +0.j,  0.        +0.j,  0.        +0.j,\n",
       "         0.        +0.j,  0.70710678+0.j,  0.70710678-0.j,\n",
       "         0.        +0.j,  0.        +0.j],\n",
       "       [ 0.        +0.j,  0.        +0.j,  0.70710678+0.j,\n",
       "        -0.70710678+0.j,  0.        +0.j,  0.        +0.j,\n",
       "         0.        +0.j,  0.        +0.j],\n",
       "       [ 0.        +0.j,  0.        +0.j,  0.        +0.j,\n",
       "         0.        +0.j,  0.        +0.j,  0.        +0.j,\n",
       "         0.70710678+0.j,  0.70710678-0.j],\n",
       "       [ 0.70710678+0.j, -0.70710678+0.j,  0.        +0.j,\n",
       "         0.        +0.j,  0.        +0.j,  0.        +0.j,\n",
       "         0.        +0.j,  0.        +0.j]])"
      ]
     },
     "execution_count": 17,
     "metadata": {},
     "output_type": "execute_result"
    }
   ],
   "source": [
    "mat1"
   ]
  },
  {
   "cell_type": "code",
   "execution_count": 18,
   "id": "c1a3e980",
   "metadata": {},
   "outputs": [
    {
     "data": {
      "text/plain": [
       "array([[ 0.70710678+0.j,  0.70710678-0.j,  0.        +0.j,\n",
       "         0.        +0.j,  0.        +0.j,  0.        +0.j,\n",
       "         0.        +0.j,  0.        +0.j],\n",
       "       [ 0.        +0.j,  0.        +0.j,  0.        +0.j,\n",
       "         0.        +0.j,  0.        +0.j,  0.        +0.j,\n",
       "         0.70710678+0.j, -0.70710678+0.j],\n",
       "       [ 0.        +0.j,  0.        +0.j,  0.70710678+0.j,\n",
       "         0.70710678-0.j,  0.        +0.j,  0.        +0.j,\n",
       "         0.        +0.j,  0.        +0.j],\n",
       "       [ 0.        +0.j,  0.        +0.j,  0.        +0.j,\n",
       "         0.        +0.j,  0.70710678+0.j, -0.70710678+0.j,\n",
       "         0.        +0.j,  0.        +0.j],\n",
       "       [ 0.        +0.j,  0.        +0.j,  0.        +0.j,\n",
       "         0.        +0.j,  0.70710678+0.j,  0.70710678-0.j,\n",
       "         0.        +0.j,  0.        +0.j],\n",
       "       [ 0.        +0.j,  0.        +0.j,  0.70710678+0.j,\n",
       "        -0.70710678+0.j,  0.        +0.j,  0.        +0.j,\n",
       "         0.        +0.j,  0.        +0.j],\n",
       "       [ 0.        +0.j,  0.        +0.j,  0.        +0.j,\n",
       "         0.        +0.j,  0.        +0.j,  0.        +0.j,\n",
       "         0.70710678+0.j,  0.70710678-0.j],\n",
       "       [ 0.70710678+0.j, -0.70710678+0.j,  0.        +0.j,\n",
       "         0.        +0.j,  0.        +0.j,  0.        +0.j,\n",
       "         0.        +0.j,  0.        +0.j]])"
      ]
     },
     "execution_count": 18,
     "metadata": {},
     "output_type": "execute_result"
    }
   ],
   "source": [
    "mat2"
   ]
  },
  {
   "cell_type": "code",
   "execution_count": 19,
   "id": "876517e9",
   "metadata": {},
   "outputs": [],
   "source": [
    "mat1_arr = np.reshape(mat1,mat1.size)"
   ]
  },
  {
   "cell_type": "code",
   "execution_count": 20,
   "id": "d24b8e00",
   "metadata": {},
   "outputs": [],
   "source": [
    "mat2_arr = np.reshape(mat2,mat2.size)"
   ]
  },
  {
   "cell_type": "code",
   "execution_count": 21,
   "id": "63faf0e7",
   "metadata": {},
   "outputs": [
    {
     "data": {
      "text/plain": [
       "0"
      ]
     },
     "execution_count": 21,
     "metadata": {},
     "output_type": "execute_result"
    }
   ],
   "source": [
    "(mat1_arr!=0).argmax(axis=0)"
   ]
  },
  {
   "cell_type": "code",
   "execution_count": 22,
   "id": "dbcc58e0",
   "metadata": {},
   "outputs": [
    {
     "data": {
      "text/plain": [
       "2"
      ]
     },
     "execution_count": 22,
     "metadata": {},
     "output_type": "execute_result"
    }
   ],
   "source": [
    "arr=np.array([0,0,1,5,6,7])\n",
    "(arr!=0).argmax(axis=0)"
   ]
  },
  {
   "cell_type": "code",
   "execution_count": 23,
   "id": "273b5f1b",
   "metadata": {},
   "outputs": [],
   "source": [
    "first_non_zero_ind = (mat1_arr!=0).argmax(axis=0)\n",
    "possible_scalar = (mat1_arr[first_non_zero_ind])/(mat2_arr[first_non_zero_ind])"
   ]
  },
  {
   "cell_type": "code",
   "execution_count": 24,
   "id": "9085f040",
   "metadata": {},
   "outputs": [
    {
     "data": {
      "text/plain": [
       "(1+0j)"
      ]
     },
     "execution_count": 24,
     "metadata": {},
     "output_type": "execute_result"
    }
   ],
   "source": [
    "possible_scalar"
   ]
  },
  {
   "cell_type": "code",
   "execution_count": 25,
   "id": "48477223",
   "metadata": {},
   "outputs": [
    {
     "data": {
      "text/plain": [
       "0"
      ]
     },
     "execution_count": 25,
     "metadata": {},
     "output_type": "execute_result"
    }
   ],
   "source": [
    "len(range(first_non_zero_ind))"
   ]
  },
  {
   "cell_type": "code",
   "execution_count": 26,
   "id": "2bee5386",
   "metadata": {},
   "outputs": [
    {
     "data": {
      "text/plain": [
       "[]"
      ]
     },
     "execution_count": 26,
     "metadata": {},
     "output_type": "execute_result"
    }
   ],
   "source": [
    "[True]*len(range(first_non_zero_ind))"
   ]
  },
  {
   "cell_type": "code",
   "execution_count": 27,
   "id": "655dc96b",
   "metadata": {},
   "outputs": [],
   "source": [
    "li1=[True]*len(range(2))"
   ]
  },
  {
   "cell_type": "code",
   "execution_count": 28,
   "id": "65899605",
   "metadata": {},
   "outputs": [
    {
     "data": {
      "text/plain": [
       "[True, True]"
      ]
     },
     "execution_count": 28,
     "metadata": {},
     "output_type": "execute_result"
    }
   ],
   "source": [
    "li1"
   ]
  },
  {
   "cell_type": "code",
   "execution_count": 29,
   "id": "2b0da403",
   "metadata": {},
   "outputs": [],
   "source": [
    "li1.append(True)"
   ]
  },
  {
   "cell_type": "code",
   "execution_count": 30,
   "id": "570ced06",
   "metadata": {},
   "outputs": [
    {
     "data": {
      "text/plain": [
       "[True, True, True]"
      ]
     },
     "execution_count": 30,
     "metadata": {},
     "output_type": "execute_result"
    }
   ],
   "source": [
    "li1"
   ]
  },
  {
   "cell_type": "code",
   "execution_count": 31,
   "id": "83033dcd",
   "metadata": {},
   "outputs": [],
   "source": [
    "first_non_zero_ind = (mat1_arr!=0).argmax(axis=0)\n",
    "bool_list=[True]*len(range(first_non_zero_ind))\n",
    "possible_scalar = (mat1_arr[first_non_zero_ind])/(mat2_arr[first_non_zero_ind])\n",
    "for i in range(mat1_arr.size):\n",
    "    if (mat1_arr[i]==0 and mat2_arr[i]==0):\n",
    "        bool_list.append(True)\n",
    "    if (mat1_arr[i]!=0 and mat2_arr[i]!=0):\n",
    "        new_sca=(mat1_arr[i])/(mat2_arr[i])\n",
    "        if (np.isclose(possible_scalar.imag,new_sca.imag) and np.isclose(possible_scalar.real,new_sca.real)):\n",
    "            bool_list.append(True)        "
   ]
  },
  {
   "cell_type": "code",
   "execution_count": 32,
   "id": "aa1abbf3",
   "metadata": {},
   "outputs": [
    {
     "data": {
      "text/plain": [
       "64"
      ]
     },
     "execution_count": 32,
     "metadata": {},
     "output_type": "execute_result"
    }
   ],
   "source": [
    "len(bool_list)"
   ]
  },
  {
   "cell_type": "code",
   "execution_count": 33,
   "id": "edcdd37b",
   "metadata": {},
   "outputs": [],
   "source": [
    "class TestZXtoDAG(QiskitTestCase):\n",
    "    \"\"\"Test for 1q gate optimizations.\"\"\"\n",
    "\n",
    "    def test_GHZ(self):\n",
    "        \"\"\"Identity gates are like 'wait' commands.\n",
    "        They should never be optimized (even without barriers).\n",
    "        See: https://github.com/Qiskit/qiskit-terra/issues/2373\n",
    "        \"\"\"\n",
    "        qc=QuantumCircuit(3)\n",
    "        qc.h(0)\n",
    "        qc.cx(0,1)\n",
    "        qc.cx(0,2)\n",
    "        \n",
    "        #convert to zx circuit\n",
    "        simulator = Aer.get_backend('aer_simulator')\n",
    "        qc1 = transpile(qc, simulator,optimization_level=0,basis_gates=['u3','cx'])\n",
    "\n",
    "        g=zx.qasm(qc1.qasm())\n",
    "        mat1=get_unitary_matrix(qc1)\n",
    "        d=zx_to_dag(g)\n",
    "        \n",
    "        qc2=dag_to_circuit(d)\n",
    "\n",
    "        mat2=get_unitary_matrix(qc2)\n",
    "        \n",
    "        mat1_arr = np.reshape(mat1,mat1.size)\n",
    "        mat2_arr = np.reshape(mat2,mat2.size)\n",
    "        first_non_zero_ind = (mat1_arr!=0).argmax(axis=0)\n",
    "        bool_list=[True]*len(range(first_non_zero_ind))\n",
    "        possible_scalar = (mat1_arr[first_non_zero_ind])/(mat2_arr[first_non_zero_ind])\n",
    "        for i in range(mat1_arr.size):\n",
    "            if (mat1_arr[i]==0 and mat2_arr[i]==0):\n",
    "                bool_list.append(True)\n",
    "                print(i)\n",
    "            if (mat1_arr[i]!=0 and mat2_arr[i]!=0):\n",
    "                new_sca=(mat1_arr[i])/(mat2_arr[i])\n",
    "                if (np.isclose(possible_scalar.imag,new_sca.imag,rtol=1e-02) and np.isclose(possible_scalar.real,new_sca.real,rtol=1e-05)):\n",
    "                    bool_list.append(True)\n",
    "                    print(i)\n",
    "        self.assertEqual([True]*mat1.size, bool_list,\"it is working\")\n",
    "        \n",
    "    def test_circ4(self):\n",
    "        \"\"\"Identity gates are like 'wait' commands.\n",
    "        They should never be optimized (even without barriers).\n",
    "        See: https://github.com/Qiskit/qiskit-terra/issues/2373\n",
    "        \"\"\"\n",
    "        qc=QuantumCircuit(3)\n",
    "        qc.h(0)\n",
    "        qc.cx(0,1)\n",
    "        qc.cx(0,2)\n",
    "        qc.y(2)\n",
    "        qc.z(1)\n",
    "        qc.x(1)\n",
    "#         qc.cu3(0.2,0.3,0.4,0,1)\n",
    "        \n",
    "        #convert to zx circuit\n",
    "        simulator = Aer.get_backend('aer_simulator')\n",
    "        qc1 = transpile(qc, simulator,optimization_level=0,basis_gates=['u3','cx'])\n",
    "\n",
    "        g=zx.qasm(qc1.qasm())\n",
    "        mat1=get_unitary_matrix(qc1)\n",
    "        d=zx_to_dag(g)\n",
    "        \n",
    "        qc2=dag_to_circuit(d)\n",
    "\n",
    "        mat2=get_unitary_matrix(qc2)\n",
    "        \n",
    "        mat1_arr = np.reshape(mat1,mat1.size)\n",
    "        mat2_arr = np.reshape(mat2,mat2.size)\n",
    "        first_non_zero_ind = (mat1_arr!=0).argmax(axis=0)\n",
    "        bool_list=[True]*len(range(first_non_zero_ind))\n",
    "        possible_scalar = (mat1_arr[first_non_zero_ind])/(mat2_arr[first_non_zero_ind])\n",
    "        for i in range(mat1_arr.size):\n",
    "            if (mat1_arr[i]==0 and mat2_arr[i]==0):\n",
    "                bool_list.append(True)\n",
    "                print(i)\n",
    "            if (mat1_arr[i]!=0 and mat2_arr[i]!=0):\n",
    "                new_sca=(mat1_arr[i])/(mat2_arr[i])\n",
    "                if (np.isclose(possible_scalar.imag,new_sca.imag,rtol=1e-20) and np.isclose(possible_scalar.real,new_sca.real,rtol=1e-20)):\n",
    "                    bool_list.append(True)\n",
    "                    print(i)\n",
    "        self.assertEqual([True]*mat1.size, bool_list,\"it is working\")\n",
    "        \n",
    "    def test_circ1(self):\n",
    "        \"\"\"Identity gates are like 'wait' commands.\n",
    "        They should never be optimized (even without barriers).\n",
    "        See: https://github.com/Qiskit/qiskit-terra/issues/2373\n",
    "        \"\"\"\n",
    "        qc=QuantumCircuit(4)\n",
    "        qc.ccz(0,1,2)\n",
    "        qc.h(1)\n",
    "        qc.t(1)\n",
    "        qc.ccz(0,1,2)\n",
    "        qc.h(1)\n",
    "        qc.t(0)\n",
    "        qc.ccz(2,1,0)\n",
    "        qc.s(1)\n",
    "        qc.ccx(2,1,0)\n",
    "        qc.crz(0.2,0,1)\n",
    "        qc.rccx(2,1,0)\n",
    "        qc.cry(0.4,2,1)\n",
    "        qc.ch(0,1)\n",
    "        qc.rcccx(3,1,2,0)\n",
    "\n",
    "        #convert to zx circuit\n",
    "        simulator = Aer.get_backend('aer_simulator')\n",
    "        qc1 = transpile(qc, simulator,optimization_level=0,basis_gates=['u3','cx'])\n",
    "\n",
    "        g=zx.qasm(qc1.qasm())\n",
    "        mat1=get_unitary_matrix(qc1)\n",
    "        d=zx_to_dag(g)\n",
    "\n",
    "        qc2=dag_to_circuit(d)\n",
    "\n",
    "#         mat2=get_unitary_matrix(qc2)\n",
    "        qc2.save_unitary()\n",
    "        result = simulator.run(qc2).result()\n",
    "        mat2 = np.asarray(result.get_unitary(qc2))\n",
    "#         bool_list = matrix_equality(mat1,mat2)\n",
    "\n",
    "        mat1_arr = np.reshape(mat1,mat1.size)\n",
    "        mat2_arr = np.reshape(mat2,mat2.size)\n",
    "        first_non_zero_ind = (mat1_arr!=0).argmax(axis=0)\n",
    "        bool_list=[True]*len(range(first_non_zero_ind))\n",
    "        possible_scalar = (mat1_arr[first_non_zero_ind])/(mat2_arr[first_non_zero_ind])\n",
    "        for i in range(mat1_arr.size):\n",
    "            if (mat1_arr[i]==0 and mat2_arr[i]==0):\n",
    "                bool_list.append(True)\n",
    "            if (mat1_arr[i]!=0 and mat2_arr[i]!=0):\n",
    "                new_sca=(mat1_arr[i])/(mat2_arr[i])\n",
    "                if (np.isclose(possible_scalar.imag,new_sca.imag,rtol=1e-15) and np.isclose(possible_scalar.real,new_sca.real,rtol=1e-08)):\n",
    "                    bool_list.append(True)   \n",
    "\n",
    "        self.assertEqual([True]*mat1.size, bool_list,\"it is working\")\n",
    "        \n",
    "    def test_circ2(self):\n",
    "        \"\"\"Identity gates are like 'wait' commands.\n",
    "        They should never be optimized (even without barriers).\n",
    "        See: https://github.com/Qiskit/qiskit-terra/issues/2373\n",
    "        \"\"\"\n",
    "        qc=QuantumCircuit(4)\n",
    "        qc.swap(0,1)\n",
    "        qc.swap(1,2)\n",
    "        qc.ccz(0,1,2)\n",
    "        qc.h(1)\n",
    "        qc.t(1)\n",
    "        qc.ccz(0,1,2)\n",
    "        qc.h(1)\n",
    "        qc.t(0)\n",
    "        qc.ccz(2,1,0)\n",
    "        qc.cswap(1,2,3)\n",
    "        qc.s(1)\n",
    "        qc.ccx(2,1,0)\n",
    "        qc.crz(0.2,0,1)\n",
    "        qc.rccx(2,1,0)\n",
    "        qc.cry(0.4,2,1)\n",
    "        qc.ch(0,1)\n",
    "        qc.rcccx(3,1,2,0)\n",
    "\n",
    "        #convert to zx circuit\n",
    "        simulator = Aer.get_backend('aer_simulator')\n",
    "        qc1 = transpile(qc, simulator,optimization_level=0,basis_gates=['u3','cx'])\n",
    "\n",
    "        g=zx.qasm(qc1.qasm())\n",
    "        mat1=get_unitary_matrix(qc1)\n",
    "        d=zx_to_dag(g)\n",
    "\n",
    "        qc2=dag_to_circuit(d)\n",
    "\n",
    "        mat2=get_unitary_matrix(qc2)\n",
    "\n",
    "        mat1_arr = np.reshape(mat1,mat1.size)\n",
    "        mat2_arr = np.reshape(mat2,mat2.size)\n",
    "        first_non_zero_ind = (mat1_arr!=0).argmax(axis=0)\n",
    "        bool_list=[True]*len(range(first_non_zero_ind))\n",
    "        possible_scalar = (mat1_arr[first_non_zero_ind])/(mat2_arr[first_non_zero_ind])\n",
    "        for i in range(mat1_arr.size):\n",
    "            if (mat1_arr[i]==0 and mat2_arr[i]==0):\n",
    "                bool_list.append(True)\n",
    "            if (mat1_arr[i]!=0 and mat2_arr[i]!=0):\n",
    "                new_sca=(mat1_arr[i])/(mat2_arr[i])\n",
    "                if (np.isclose(possible_scalar.imag,new_sca.imag) and np.isclose(possible_scalar.real,new_sca.real)):\n",
    "                    bool_list.append(True) \n",
    "\n",
    "        self.assertEqual(bool_list,[True]*mat1.size,\"it is working\")    "
   ]
  },
  {
   "cell_type": "code",
   "execution_count": 34,
   "id": "7df7fd2b",
   "metadata": {},
   "outputs": [],
   "source": [
    "t1=TestZXtoDAG()"
   ]
  },
  {
   "cell_type": "code",
   "execution_count": 35,
   "id": "14275602",
   "metadata": {},
   "outputs": [
    {
     "name": "stdout",
     "output_type": "stream",
     "text": [
      "y2\n",
      "HAD(0)\n",
      "CNOT(0,1)\n",
      "CNOT(0,2)\n",
      "0\n",
      "1\n",
      "2\n",
      "3\n",
      "4\n",
      "5\n",
      "6\n",
      "7\n",
      "8\n",
      "9\n",
      "10\n",
      "11\n",
      "12\n",
      "13\n",
      "14\n",
      "15\n",
      "16\n",
      "17\n",
      "18\n",
      "19\n",
      "20\n",
      "21\n",
      "22\n",
      "23\n",
      "24\n",
      "25\n",
      "26\n",
      "27\n",
      "28\n",
      "29\n",
      "30\n",
      "31\n",
      "32\n",
      "33\n",
      "34\n",
      "35\n",
      "36\n",
      "37\n",
      "38\n",
      "39\n",
      "40\n",
      "41\n",
      "42\n",
      "43\n",
      "44\n",
      "45\n",
      "46\n",
      "47\n",
      "48\n",
      "49\n",
      "50\n",
      "51\n",
      "52\n",
      "53\n",
      "54\n",
      "55\n",
      "56\n",
      "57\n",
      "58\n",
      "59\n",
      "60\n",
      "61\n",
      "62\n",
      "63\n"
     ]
    }
   ],
   "source": [
    "t1.test_GHZ()"
   ]
  },
  {
   "cell_type": "code",
   "execution_count": 36,
   "id": "95050fd4",
   "metadata": {},
   "outputs": [
    {
     "name": "stdout",
     "output_type": "stream",
     "text": [
      "y2\n",
      "HAD(0)\n",
      "CNOT(0,1)\n",
      "Z(1)\n",
      "CNOT(0,2)\n",
      "Z(2)\n",
      "NOT(2)\n",
      "NOT(1)\n",
      "0\n",
      "1\n",
      "14\n",
      "15\n",
      "18\n",
      "19\n",
      "28\n",
      "29\n",
      "36\n",
      "37\n",
      "42\n",
      "43\n",
      "54\n",
      "55\n",
      "56\n",
      "57\n"
     ]
    },
    {
     "ename": "AssertionError",
     "evalue": "Lists differ: [True[85 chars] True, True, True, True, True, True, True, Tru[243 chars]True] != [True[85 chars] True]\n\nFirst list contains 48 additional elements.\nFirst extra element 16:\nTrue\n\n  [True,\n   True,\n   True,\n   True,\n   True,\n   True,\n   True,\n   True,\n   True,\n   True,\n   True,\n   True,\n   True,\n   True,\n   True,\n-  True,\n-  True,\n-  True,\n-  True,\n-  True,\n-  True,\n-  True,\n-  True,\n-  True,\n-  True,\n-  True,\n-  True,\n-  True,\n-  True,\n-  True,\n-  True,\n-  True,\n-  True,\n-  True,\n-  True,\n-  True,\n-  True,\n-  True,\n-  True,\n-  True,\n-  True,\n-  True,\n-  True,\n-  True,\n-  True,\n-  True,\n-  True,\n-  True,\n-  True,\n-  True,\n-  True,\n-  True,\n-  True,\n-  True,\n-  True,\n-  True,\n-  True,\n-  True,\n-  True,\n-  True,\n-  True,\n-  True,\n-  True,\n   True] : it is working",
     "output_type": "error",
     "traceback": [
      "\u001b[1;31m---------------------------------------------------------------------------\u001b[0m",
      "\u001b[1;31mAssertionError\u001b[0m                            Traceback (most recent call last)",
      "\u001b[1;32m~\\AppData\\Local\\Temp\\ipykernel_22888\\2811843226.py\u001b[0m in \u001b[0;36m<module>\u001b[1;34m\u001b[0m\n\u001b[1;32m----> 1\u001b[1;33m \u001b[0mt1\u001b[0m\u001b[1;33m.\u001b[0m\u001b[0mtest_circ4\u001b[0m\u001b[1;33m(\u001b[0m\u001b[1;33m)\u001b[0m\u001b[1;33m\u001b[0m\u001b[1;33m\u001b[0m\u001b[0m\n\u001b[0m",
      "\u001b[1;32m~\\AppData\\Local\\Temp\\ipykernel_22888\\1790376026.py\u001b[0m in \u001b[0;36mtest_circ4\u001b[1;34m(self)\u001b[0m\n\u001b[0;32m     80\u001b[0m                     \u001b[0mbool_list\u001b[0m\u001b[1;33m.\u001b[0m\u001b[0mappend\u001b[0m\u001b[1;33m(\u001b[0m\u001b[1;32mTrue\u001b[0m\u001b[1;33m)\u001b[0m\u001b[1;33m\u001b[0m\u001b[1;33m\u001b[0m\u001b[0m\n\u001b[0;32m     81\u001b[0m                     \u001b[0mprint\u001b[0m\u001b[1;33m(\u001b[0m\u001b[0mi\u001b[0m\u001b[1;33m)\u001b[0m\u001b[1;33m\u001b[0m\u001b[1;33m\u001b[0m\u001b[0m\n\u001b[1;32m---> 82\u001b[1;33m         \u001b[0mself\u001b[0m\u001b[1;33m.\u001b[0m\u001b[0massertEqual\u001b[0m\u001b[1;33m(\u001b[0m\u001b[1;33m[\u001b[0m\u001b[1;32mTrue\u001b[0m\u001b[1;33m]\u001b[0m\u001b[1;33m*\u001b[0m\u001b[0mmat1\u001b[0m\u001b[1;33m.\u001b[0m\u001b[0msize\u001b[0m\u001b[1;33m,\u001b[0m \u001b[0mbool_list\u001b[0m\u001b[1;33m,\u001b[0m\u001b[1;34m\"it is working\"\u001b[0m\u001b[1;33m)\u001b[0m\u001b[1;33m\u001b[0m\u001b[1;33m\u001b[0m\u001b[0m\n\u001b[0m\u001b[0;32m     83\u001b[0m \u001b[1;33m\u001b[0m\u001b[0m\n\u001b[0;32m     84\u001b[0m     \u001b[1;32mdef\u001b[0m \u001b[0mtest_circ1\u001b[0m\u001b[1;33m(\u001b[0m\u001b[0mself\u001b[0m\u001b[1;33m)\u001b[0m\u001b[1;33m:\u001b[0m\u001b[1;33m\u001b[0m\u001b[1;33m\u001b[0m\u001b[0m\n",
      "\u001b[1;32m~\\anaconda3\\lib\\unittest\\case.py\u001b[0m in \u001b[0;36massertEqual\u001b[1;34m(self, first, second, msg)\u001b[0m\n\u001b[0;32m    835\u001b[0m         \"\"\"\n\u001b[0;32m    836\u001b[0m         \u001b[0massertion_func\u001b[0m \u001b[1;33m=\u001b[0m \u001b[0mself\u001b[0m\u001b[1;33m.\u001b[0m\u001b[0m_getAssertEqualityFunc\u001b[0m\u001b[1;33m(\u001b[0m\u001b[0mfirst\u001b[0m\u001b[1;33m,\u001b[0m \u001b[0msecond\u001b[0m\u001b[1;33m)\u001b[0m\u001b[1;33m\u001b[0m\u001b[1;33m\u001b[0m\u001b[0m\n\u001b[1;32m--> 837\u001b[1;33m         \u001b[0massertion_func\u001b[0m\u001b[1;33m(\u001b[0m\u001b[0mfirst\u001b[0m\u001b[1;33m,\u001b[0m \u001b[0msecond\u001b[0m\u001b[1;33m,\u001b[0m \u001b[0mmsg\u001b[0m\u001b[1;33m=\u001b[0m\u001b[0mmsg\u001b[0m\u001b[1;33m)\u001b[0m\u001b[1;33m\u001b[0m\u001b[1;33m\u001b[0m\u001b[0m\n\u001b[0m\u001b[0;32m    838\u001b[0m \u001b[1;33m\u001b[0m\u001b[0m\n\u001b[0;32m    839\u001b[0m     \u001b[1;32mdef\u001b[0m \u001b[0massertNotEqual\u001b[0m\u001b[1;33m(\u001b[0m\u001b[0mself\u001b[0m\u001b[1;33m,\u001b[0m \u001b[0mfirst\u001b[0m\u001b[1;33m,\u001b[0m \u001b[0msecond\u001b[0m\u001b[1;33m,\u001b[0m \u001b[0mmsg\u001b[0m\u001b[1;33m=\u001b[0m\u001b[1;32mNone\u001b[0m\u001b[1;33m)\u001b[0m\u001b[1;33m:\u001b[0m\u001b[1;33m\u001b[0m\u001b[1;33m\u001b[0m\u001b[0m\n",
      "\u001b[1;32m~\\anaconda3\\lib\\unittest\\case.py\u001b[0m in \u001b[0;36massertListEqual\u001b[1;34m(self, list1, list2, msg)\u001b[0m\n\u001b[0;32m   1041\u001b[0m \u001b[1;33m\u001b[0m\u001b[0m\n\u001b[0;32m   1042\u001b[0m         \"\"\"\n\u001b[1;32m-> 1043\u001b[1;33m         \u001b[0mself\u001b[0m\u001b[1;33m.\u001b[0m\u001b[0massertSequenceEqual\u001b[0m\u001b[1;33m(\u001b[0m\u001b[0mlist1\u001b[0m\u001b[1;33m,\u001b[0m \u001b[0mlist2\u001b[0m\u001b[1;33m,\u001b[0m \u001b[0mmsg\u001b[0m\u001b[1;33m,\u001b[0m \u001b[0mseq_type\u001b[0m\u001b[1;33m=\u001b[0m\u001b[0mlist\u001b[0m\u001b[1;33m)\u001b[0m\u001b[1;33m\u001b[0m\u001b[1;33m\u001b[0m\u001b[0m\n\u001b[0m\u001b[0;32m   1044\u001b[0m \u001b[1;33m\u001b[0m\u001b[0m\n\u001b[0;32m   1045\u001b[0m     \u001b[1;32mdef\u001b[0m \u001b[0massertTupleEqual\u001b[0m\u001b[1;33m(\u001b[0m\u001b[0mself\u001b[0m\u001b[1;33m,\u001b[0m \u001b[0mtuple1\u001b[0m\u001b[1;33m,\u001b[0m \u001b[0mtuple2\u001b[0m\u001b[1;33m,\u001b[0m \u001b[0mmsg\u001b[0m\u001b[1;33m=\u001b[0m\u001b[1;32mNone\u001b[0m\u001b[1;33m)\u001b[0m\u001b[1;33m:\u001b[0m\u001b[1;33m\u001b[0m\u001b[1;33m\u001b[0m\u001b[0m\n",
      "\u001b[1;32m~\\anaconda3\\lib\\unittest\\case.py\u001b[0m in \u001b[0;36massertSequenceEqual\u001b[1;34m(self, seq1, seq2, msg, seq_type)\u001b[0m\n\u001b[0;32m   1023\u001b[0m         \u001b[0mstandardMsg\u001b[0m \u001b[1;33m=\u001b[0m \u001b[0mself\u001b[0m\u001b[1;33m.\u001b[0m\u001b[0m_truncateMessage\u001b[0m\u001b[1;33m(\u001b[0m\u001b[0mstandardMsg\u001b[0m\u001b[1;33m,\u001b[0m \u001b[0mdiffMsg\u001b[0m\u001b[1;33m)\u001b[0m\u001b[1;33m\u001b[0m\u001b[1;33m\u001b[0m\u001b[0m\n\u001b[0;32m   1024\u001b[0m         \u001b[0mmsg\u001b[0m \u001b[1;33m=\u001b[0m \u001b[0mself\u001b[0m\u001b[1;33m.\u001b[0m\u001b[0m_formatMessage\u001b[0m\u001b[1;33m(\u001b[0m\u001b[0mmsg\u001b[0m\u001b[1;33m,\u001b[0m \u001b[0mstandardMsg\u001b[0m\u001b[1;33m)\u001b[0m\u001b[1;33m\u001b[0m\u001b[1;33m\u001b[0m\u001b[0m\n\u001b[1;32m-> 1025\u001b[1;33m         \u001b[0mself\u001b[0m\u001b[1;33m.\u001b[0m\u001b[0mfail\u001b[0m\u001b[1;33m(\u001b[0m\u001b[0mmsg\u001b[0m\u001b[1;33m)\u001b[0m\u001b[1;33m\u001b[0m\u001b[1;33m\u001b[0m\u001b[0m\n\u001b[0m\u001b[0;32m   1026\u001b[0m \u001b[1;33m\u001b[0m\u001b[0m\n\u001b[0;32m   1027\u001b[0m     \u001b[1;32mdef\u001b[0m \u001b[0m_truncateMessage\u001b[0m\u001b[1;33m(\u001b[0m\u001b[0mself\u001b[0m\u001b[1;33m,\u001b[0m \u001b[0mmessage\u001b[0m\u001b[1;33m,\u001b[0m \u001b[0mdiff\u001b[0m\u001b[1;33m)\u001b[0m\u001b[1;33m:\u001b[0m\u001b[1;33m\u001b[0m\u001b[1;33m\u001b[0m\u001b[0m\n",
      "\u001b[1;32m~\\anaconda3\\lib\\unittest\\case.py\u001b[0m in \u001b[0;36mfail\u001b[1;34m(self, msg)\u001b[0m\n\u001b[0;32m    674\u001b[0m     \u001b[1;32mdef\u001b[0m \u001b[0mfail\u001b[0m\u001b[1;33m(\u001b[0m\u001b[0mself\u001b[0m\u001b[1;33m,\u001b[0m \u001b[0mmsg\u001b[0m\u001b[1;33m=\u001b[0m\u001b[1;32mNone\u001b[0m\u001b[1;33m)\u001b[0m\u001b[1;33m:\u001b[0m\u001b[1;33m\u001b[0m\u001b[1;33m\u001b[0m\u001b[0m\n\u001b[0;32m    675\u001b[0m         \u001b[1;34m\"\"\"Fail immediately, with the given message.\"\"\"\u001b[0m\u001b[1;33m\u001b[0m\u001b[1;33m\u001b[0m\u001b[0m\n\u001b[1;32m--> 676\u001b[1;33m         \u001b[1;32mraise\u001b[0m \u001b[0mself\u001b[0m\u001b[1;33m.\u001b[0m\u001b[0mfailureException\u001b[0m\u001b[1;33m(\u001b[0m\u001b[0mmsg\u001b[0m\u001b[1;33m)\u001b[0m\u001b[1;33m\u001b[0m\u001b[1;33m\u001b[0m\u001b[0m\n\u001b[0m\u001b[0;32m    677\u001b[0m \u001b[1;33m\u001b[0m\u001b[0m\n\u001b[0;32m    678\u001b[0m     \u001b[1;32mdef\u001b[0m \u001b[0massertFalse\u001b[0m\u001b[1;33m(\u001b[0m\u001b[0mself\u001b[0m\u001b[1;33m,\u001b[0m \u001b[0mexpr\u001b[0m\u001b[1;33m,\u001b[0m \u001b[0mmsg\u001b[0m\u001b[1;33m=\u001b[0m\u001b[1;32mNone\u001b[0m\u001b[1;33m)\u001b[0m\u001b[1;33m:\u001b[0m\u001b[1;33m\u001b[0m\u001b[1;33m\u001b[0m\u001b[0m\n",
      "\u001b[1;31mAssertionError\u001b[0m: Lists differ: [True[85 chars] True, True, True, True, True, True, True, Tru[243 chars]True] != [True[85 chars] True]\n\nFirst list contains 48 additional elements.\nFirst extra element 16:\nTrue\n\n  [True,\n   True,\n   True,\n   True,\n   True,\n   True,\n   True,\n   True,\n   True,\n   True,\n   True,\n   True,\n   True,\n   True,\n   True,\n-  True,\n-  True,\n-  True,\n-  True,\n-  True,\n-  True,\n-  True,\n-  True,\n-  True,\n-  True,\n-  True,\n-  True,\n-  True,\n-  True,\n-  True,\n-  True,\n-  True,\n-  True,\n-  True,\n-  True,\n-  True,\n-  True,\n-  True,\n-  True,\n-  True,\n-  True,\n-  True,\n-  True,\n-  True,\n-  True,\n-  True,\n-  True,\n-  True,\n-  True,\n-  True,\n-  True,\n-  True,\n-  True,\n-  True,\n-  True,\n-  True,\n-  True,\n-  True,\n-  True,\n-  True,\n-  True,\n-  True,\n-  True,\n   True] : it is working"
     ]
    }
   ],
   "source": [
    "t1.test_circ4()"
   ]
  },
  {
   "cell_type": "code",
   "execution_count": 37,
   "id": "7e113d30",
   "metadata": {},
   "outputs": [
    {
     "name": "stdout",
     "output_type": "stream",
     "text": [
      "y1\n",
      "CNOT(1,3)\n",
      "CNOT(3,1)\n",
      "CNOT(1,3)\n",
      "CNOT(0,2)\n",
      "CNOT(2,0)\n",
      "CNOT(0,2)\n",
      "HAD(3)\n",
      "HAD(2)\n",
      "HAD(0)\n",
      "HAD(0)\n",
      "CZ(0,2)\n",
      "HAD(2)\n",
      "ZPhase(2,phase=5/4)\n",
      "HAD(2)\n",
      "CZ(0,3)\n",
      "CZ(0,2)\n",
      "ZPhase(0,phase=5/4)\n",
      "HAD(3)\n",
      "HAD(0)\n",
      "CZ(2,3)\n",
      "CZ(0,3)\n",
      "ZPhase(3,phase=5/4)\n",
      "HAD(3)\n",
      "HAD(2)\n",
      "CZ(2,3)\n",
      "ZPhase(2,phase=1/4)\n",
      "HAD(2)\n",
      "CNOT(2,0)\n",
      "ZPhase(2,phase=1/4)\n",
      "HAD(2)\n",
      "CNOT(2,0)\n",
      "CNOT(0,3)\n",
      "HAD(2)\n",
      "ZPhase(2,phase=7/4)\n",
      "HAD(2)\n",
      "CNOT(2,0)\n",
      "HAD(2)\n",
      "ZPhase(2,phase=1/4)\n",
      "HAD(2)\n",
      "CNOT(2,0)\n",
      "CNOT(0,3)\n",
      "ZPhase(2,phase=1/4)\n",
      "HAD(2)\n",
      "CNOT(2,3)\n",
      "HAD(2)\n",
      "ZPhase(2,phase=1/4)\n",
      "HAD(2)\n",
      "CNOT(2,0)\n",
      "CNOT(0,3)\n",
      "HAD(2)\n",
      "ZPhase(2,phase=299776445/233865812)\n",
      "HAD(2)\n",
      "HAD(3)\n",
      "HAD(0)\n",
      "CZ(2,3)\n",
      "CZ(0,3)\n",
      "ZPhase(3,phase=1/4)\n",
      "ZPhase(0,phase=7/4)\n",
      "HAD(1)\n",
      "HAD(3)\n",
      "HAD(0)\n",
      "HAD(2)\n",
      "CZ(2,3)\n",
      "CZ(1,2)\n",
      "CZ(0,2)\n",
      "ZPhase(2,phase=5/4)\n",
      "HAD(2)\n",
      "CZ(1,2)\n",
      "HAD(1)\n",
      "CNOT(1,3)\n",
      "CZ(1,2)\n",
      "ZPhase(1,phase=1/4)\n",
      "HAD(1)\n",
      "CZ(2,3)\n",
      "CZ(1,2)\n",
      "ZPhase(2,phase=7/4)\n",
      "HAD(2)\n",
      "HAD(3)\n",
      "CZ(2,3)\n",
      "CZ(1,3)\n",
      "ZPhase(3,phase=3/4)\n",
      "HAD(3)\n",
      "HAD(1)\n",
      "CZ(1,3)\n",
      "CZ(0,1)\n",
      "ZPhase(1,phase=1/4)\n",
      "HAD(1)\n",
      "CNOT(1,2)\n",
      "ZPhase(1,phase=7/4)\n",
      "HAD(1)\n",
      "CNOT(1,2)\n",
      "ZPhase(0,phase=5/4)\n",
      "HAD(0)\n",
      "CNOT(0,2)\n",
      "HAD(1)\n",
      "ZPhase(1,phase=1/4)\n",
      "HAD(1)\n",
      "HAD(0)\n",
      "CZ(0,1)\n",
      "ZPhase(0,phase=3/4)\n",
      "HAD(0)\n",
      "ZPhase(0,phase=115071861/58466453)\n",
      "HAD(0)\n",
      "CNOT(0,2)\n",
      "CNOT(2,3)\n",
      "ZPhase(0,phase=7/4)\n",
      "HAD(0)\n",
      "CNOT(0,1)\n",
      "HAD(0)\n",
      "ZPhase(0,phase=1/4)\n",
      "HAD(0)\n",
      "CNOT(0,2)\n",
      "HAD(3)\n",
      "CZ(0,3)\n",
      "ZPhase(3,phase=3/4)\n",
      "HAD(3)\n",
      "HAD(1)\n",
      "CZ(1,3)\n",
      "CZ(0,1)\n",
      "ZPhase(1,phase=7/4)\n",
      "HAD(1)\n",
      "HAD(0)\n",
      "CZ(0,1)\n",
      "ZPhase(0,phase=7/4)\n",
      "HAD(0)\n",
      "ZPhase(0,phase=37334481/85563208)\n",
      "HAD(0)\n",
      "CNOT(0,2)\n",
      "CNOT(0,3)\n",
      "HAD(0)\n",
      "ZPhase(0,phase=112401133/85563208)\n",
      "HAD(0)\n",
      "CNOT(0,2)\n",
      "CNOT(0,3)\n",
      "ZPhase(0,phase=7/4)\n",
      "HAD(0)\n",
      "CNOT(0,2)\n",
      "CNOT(0,3)\n",
      "HAD(1)\n",
      "ZPhase(1,phase=5/4)\n",
      "HAD(1)\n",
      "CNOT(1,2)\n",
      "HAD(0)\n",
      "CZ(0,1)\n",
      "ZPhase(0,phase=5/4)\n",
      "HAD(0)\n",
      "CNOT(0,3)\n",
      "CZ(0,1)\n",
      "ZPhase(1,phase=7/4)\n",
      "HAD(1)\n",
      "ZPhase(1,phase=7/4)\n",
      "HAD(1)\n",
      "CNOT(1,3)\n",
      "ZPhase(0,phase=1/4)\n",
      "HAD(0)\n",
      "CNOT(0,3)\n",
      "HAD(1)\n",
      "ZPhase(1,phase=1/4)\n",
      "HAD(1)\n",
      "CNOT(1,3)\n",
      "HAD(0)\n",
      "CZ(0,1)\n",
      "ZPhase(0,phase=7/4)\n",
      "HAD(0)\n",
      "CNOT(0,3)\n",
      "ZPhase(0,phase=7/4)\n",
      "HAD(0)\n",
      "CNOT(0,3)\n",
      "HAD(2)\n",
      "CZ(0,2)\n",
      "ZPhase(2,phase=5/4)\n",
      "HAD(2)\n",
      "CNOT(2,3)\n",
      "HAD(1)\n",
      "HAD(2)\n",
      "HAD(0)\n",
      "CZ(0,2)\n",
      "HAD(3)\n",
      "ZPhase(2,phase=3/4)\n",
      "ZPhase(1,phase=3/2)\n",
      "ZPhase(0,phase=1/4)\n",
      "HAD(0)\n"
     ]
    },
    {
     "ename": "AssertionError",
     "evalue": "Lists differ: [True[253 chars] True] != [True[253 chars] True, True, True, True, True, True, True, Tru[1227 chars]True]\n\nSecond list contains 212 additional elements.\nFirst extra element 44:\nTrue\n\nDiff is 2304 characters long. Set self.maxDiff to None to see it. : it is working",
     "output_type": "error",
     "traceback": [
      "\u001b[1;31m---------------------------------------------------------------------------\u001b[0m",
      "\u001b[1;31mAssertionError\u001b[0m                            Traceback (most recent call last)",
      "\u001b[1;32m~\\AppData\\Local\\Temp\\ipykernel_22888\\3328660258.py\u001b[0m in \u001b[0;36m<module>\u001b[1;34m\u001b[0m\n\u001b[1;32m----> 1\u001b[1;33m \u001b[0mt1\u001b[0m\u001b[1;33m.\u001b[0m\u001b[0mtest_circ2\u001b[0m\u001b[1;33m(\u001b[0m\u001b[1;33m)\u001b[0m\u001b[1;33m\u001b[0m\u001b[1;33m\u001b[0m\u001b[0m\n\u001b[0m",
      "\u001b[1;32m~\\AppData\\Local\\Temp\\ipykernel_22888\\1790376026.py\u001b[0m in \u001b[0;36mtest_circ2\u001b[1;34m(self)\u001b[0m\n\u001b[0;32m    183\u001b[0m                     \u001b[0mbool_list\u001b[0m\u001b[1;33m.\u001b[0m\u001b[0mappend\u001b[0m\u001b[1;33m(\u001b[0m\u001b[1;32mTrue\u001b[0m\u001b[1;33m)\u001b[0m\u001b[1;33m\u001b[0m\u001b[1;33m\u001b[0m\u001b[0m\n\u001b[0;32m    184\u001b[0m \u001b[1;33m\u001b[0m\u001b[0m\n\u001b[1;32m--> 185\u001b[1;33m         \u001b[0mself\u001b[0m\u001b[1;33m.\u001b[0m\u001b[0massertEqual\u001b[0m\u001b[1;33m(\u001b[0m\u001b[0mbool_list\u001b[0m\u001b[1;33m,\u001b[0m\u001b[1;33m[\u001b[0m\u001b[1;32mTrue\u001b[0m\u001b[1;33m]\u001b[0m\u001b[1;33m*\u001b[0m\u001b[0mmat1\u001b[0m\u001b[1;33m.\u001b[0m\u001b[0msize\u001b[0m\u001b[1;33m,\u001b[0m\u001b[1;34m\"it is working\"\u001b[0m\u001b[1;33m)\u001b[0m\u001b[1;33m\u001b[0m\u001b[1;33m\u001b[0m\u001b[0m\n\u001b[0m",
      "\u001b[1;32m~\\anaconda3\\lib\\unittest\\case.py\u001b[0m in \u001b[0;36massertEqual\u001b[1;34m(self, first, second, msg)\u001b[0m\n\u001b[0;32m    835\u001b[0m         \"\"\"\n\u001b[0;32m    836\u001b[0m         \u001b[0massertion_func\u001b[0m \u001b[1;33m=\u001b[0m \u001b[0mself\u001b[0m\u001b[1;33m.\u001b[0m\u001b[0m_getAssertEqualityFunc\u001b[0m\u001b[1;33m(\u001b[0m\u001b[0mfirst\u001b[0m\u001b[1;33m,\u001b[0m \u001b[0msecond\u001b[0m\u001b[1;33m)\u001b[0m\u001b[1;33m\u001b[0m\u001b[1;33m\u001b[0m\u001b[0m\n\u001b[1;32m--> 837\u001b[1;33m         \u001b[0massertion_func\u001b[0m\u001b[1;33m(\u001b[0m\u001b[0mfirst\u001b[0m\u001b[1;33m,\u001b[0m \u001b[0msecond\u001b[0m\u001b[1;33m,\u001b[0m \u001b[0mmsg\u001b[0m\u001b[1;33m=\u001b[0m\u001b[0mmsg\u001b[0m\u001b[1;33m)\u001b[0m\u001b[1;33m\u001b[0m\u001b[1;33m\u001b[0m\u001b[0m\n\u001b[0m\u001b[0;32m    838\u001b[0m \u001b[1;33m\u001b[0m\u001b[0m\n\u001b[0;32m    839\u001b[0m     \u001b[1;32mdef\u001b[0m \u001b[0massertNotEqual\u001b[0m\u001b[1;33m(\u001b[0m\u001b[0mself\u001b[0m\u001b[1;33m,\u001b[0m \u001b[0mfirst\u001b[0m\u001b[1;33m,\u001b[0m \u001b[0msecond\u001b[0m\u001b[1;33m,\u001b[0m \u001b[0mmsg\u001b[0m\u001b[1;33m=\u001b[0m\u001b[1;32mNone\u001b[0m\u001b[1;33m)\u001b[0m\u001b[1;33m:\u001b[0m\u001b[1;33m\u001b[0m\u001b[1;33m\u001b[0m\u001b[0m\n",
      "\u001b[1;32m~\\anaconda3\\lib\\unittest\\case.py\u001b[0m in \u001b[0;36massertListEqual\u001b[1;34m(self, list1, list2, msg)\u001b[0m\n\u001b[0;32m   1041\u001b[0m \u001b[1;33m\u001b[0m\u001b[0m\n\u001b[0;32m   1042\u001b[0m         \"\"\"\n\u001b[1;32m-> 1043\u001b[1;33m         \u001b[0mself\u001b[0m\u001b[1;33m.\u001b[0m\u001b[0massertSequenceEqual\u001b[0m\u001b[1;33m(\u001b[0m\u001b[0mlist1\u001b[0m\u001b[1;33m,\u001b[0m \u001b[0mlist2\u001b[0m\u001b[1;33m,\u001b[0m \u001b[0mmsg\u001b[0m\u001b[1;33m,\u001b[0m \u001b[0mseq_type\u001b[0m\u001b[1;33m=\u001b[0m\u001b[0mlist\u001b[0m\u001b[1;33m)\u001b[0m\u001b[1;33m\u001b[0m\u001b[1;33m\u001b[0m\u001b[0m\n\u001b[0m\u001b[0;32m   1044\u001b[0m \u001b[1;33m\u001b[0m\u001b[0m\n\u001b[0;32m   1045\u001b[0m     \u001b[1;32mdef\u001b[0m \u001b[0massertTupleEqual\u001b[0m\u001b[1;33m(\u001b[0m\u001b[0mself\u001b[0m\u001b[1;33m,\u001b[0m \u001b[0mtuple1\u001b[0m\u001b[1;33m,\u001b[0m \u001b[0mtuple2\u001b[0m\u001b[1;33m,\u001b[0m \u001b[0mmsg\u001b[0m\u001b[1;33m=\u001b[0m\u001b[1;32mNone\u001b[0m\u001b[1;33m)\u001b[0m\u001b[1;33m:\u001b[0m\u001b[1;33m\u001b[0m\u001b[1;33m\u001b[0m\u001b[0m\n",
      "\u001b[1;32m~\\anaconda3\\lib\\unittest\\case.py\u001b[0m in \u001b[0;36massertSequenceEqual\u001b[1;34m(self, seq1, seq2, msg, seq_type)\u001b[0m\n\u001b[0;32m   1023\u001b[0m         \u001b[0mstandardMsg\u001b[0m \u001b[1;33m=\u001b[0m \u001b[0mself\u001b[0m\u001b[1;33m.\u001b[0m\u001b[0m_truncateMessage\u001b[0m\u001b[1;33m(\u001b[0m\u001b[0mstandardMsg\u001b[0m\u001b[1;33m,\u001b[0m \u001b[0mdiffMsg\u001b[0m\u001b[1;33m)\u001b[0m\u001b[1;33m\u001b[0m\u001b[1;33m\u001b[0m\u001b[0m\n\u001b[0;32m   1024\u001b[0m         \u001b[0mmsg\u001b[0m \u001b[1;33m=\u001b[0m \u001b[0mself\u001b[0m\u001b[1;33m.\u001b[0m\u001b[0m_formatMessage\u001b[0m\u001b[1;33m(\u001b[0m\u001b[0mmsg\u001b[0m\u001b[1;33m,\u001b[0m \u001b[0mstandardMsg\u001b[0m\u001b[1;33m)\u001b[0m\u001b[1;33m\u001b[0m\u001b[1;33m\u001b[0m\u001b[0m\n\u001b[1;32m-> 1025\u001b[1;33m         \u001b[0mself\u001b[0m\u001b[1;33m.\u001b[0m\u001b[0mfail\u001b[0m\u001b[1;33m(\u001b[0m\u001b[0mmsg\u001b[0m\u001b[1;33m)\u001b[0m\u001b[1;33m\u001b[0m\u001b[1;33m\u001b[0m\u001b[0m\n\u001b[0m\u001b[0;32m   1026\u001b[0m \u001b[1;33m\u001b[0m\u001b[0m\n\u001b[0;32m   1027\u001b[0m     \u001b[1;32mdef\u001b[0m \u001b[0m_truncateMessage\u001b[0m\u001b[1;33m(\u001b[0m\u001b[0mself\u001b[0m\u001b[1;33m,\u001b[0m \u001b[0mmessage\u001b[0m\u001b[1;33m,\u001b[0m \u001b[0mdiff\u001b[0m\u001b[1;33m)\u001b[0m\u001b[1;33m:\u001b[0m\u001b[1;33m\u001b[0m\u001b[1;33m\u001b[0m\u001b[0m\n",
      "\u001b[1;32m~\\anaconda3\\lib\\unittest\\case.py\u001b[0m in \u001b[0;36mfail\u001b[1;34m(self, msg)\u001b[0m\n\u001b[0;32m    674\u001b[0m     \u001b[1;32mdef\u001b[0m \u001b[0mfail\u001b[0m\u001b[1;33m(\u001b[0m\u001b[0mself\u001b[0m\u001b[1;33m,\u001b[0m \u001b[0mmsg\u001b[0m\u001b[1;33m=\u001b[0m\u001b[1;32mNone\u001b[0m\u001b[1;33m)\u001b[0m\u001b[1;33m:\u001b[0m\u001b[1;33m\u001b[0m\u001b[1;33m\u001b[0m\u001b[0m\n\u001b[0;32m    675\u001b[0m         \u001b[1;34m\"\"\"Fail immediately, with the given message.\"\"\"\u001b[0m\u001b[1;33m\u001b[0m\u001b[1;33m\u001b[0m\u001b[0m\n\u001b[1;32m--> 676\u001b[1;33m         \u001b[1;32mraise\u001b[0m \u001b[0mself\u001b[0m\u001b[1;33m.\u001b[0m\u001b[0mfailureException\u001b[0m\u001b[1;33m(\u001b[0m\u001b[0mmsg\u001b[0m\u001b[1;33m)\u001b[0m\u001b[1;33m\u001b[0m\u001b[1;33m\u001b[0m\u001b[0m\n\u001b[0m\u001b[0;32m    677\u001b[0m \u001b[1;33m\u001b[0m\u001b[0m\n\u001b[0;32m    678\u001b[0m     \u001b[1;32mdef\u001b[0m \u001b[0massertFalse\u001b[0m\u001b[1;33m(\u001b[0m\u001b[0mself\u001b[0m\u001b[1;33m,\u001b[0m \u001b[0mexpr\u001b[0m\u001b[1;33m,\u001b[0m \u001b[0mmsg\u001b[0m\u001b[1;33m=\u001b[0m\u001b[1;32mNone\u001b[0m\u001b[1;33m)\u001b[0m\u001b[1;33m:\u001b[0m\u001b[1;33m\u001b[0m\u001b[1;33m\u001b[0m\u001b[0m\n",
      "\u001b[1;31mAssertionError\u001b[0m: Lists differ: [True[253 chars] True] != [True[253 chars] True, True, True, True, True, True, True, Tru[1227 chars]True]\n\nSecond list contains 212 additional elements.\nFirst extra element 44:\nTrue\n\nDiff is 2304 characters long. Set self.maxDiff to None to see it. : it is working"
     ]
    }
   ],
   "source": [
    "t1.test_circ2()"
   ]
  },
  {
   "cell_type": "code",
   "execution_count": 38,
   "id": "7887da23",
   "metadata": {},
   "outputs": [],
   "source": [
    "from qiskit import QuantumCircuit\n",
    "from qiskit.quantum_info import Clifford\n",
    "\n",
    "# Bell state generation circuit\n",
    "qc = QuantumCircuit(3)\n",
    "qc.h(0)\n",
    "qc.cx(2,0)\n",
    "cliff = Clifford(qc)"
   ]
  },
  {
   "cell_type": "code",
   "execution_count": 39,
   "id": "a0de3bc6",
   "metadata": {},
   "outputs": [
    {
     "name": "stdout",
     "output_type": "stream",
     "text": [
      "Clifford: Stabilizer = ['+IIX', '+IZI', '+ZII'], Destabilizer = ['+ZIZ', '+IXI', '+XIX']\n"
     ]
    }
   ],
   "source": [
    "print(cliff)"
   ]
  },
  {
   "cell_type": "code",
   "execution_count": 40,
   "id": "08d488a6",
   "metadata": {},
   "outputs": [],
   "source": [
    "??zx.optimize.permutation_as_swaps"
   ]
  },
  {
   "cell_type": "code",
   "execution_count": 41,
   "id": "3bff6cf3",
   "metadata": {},
   "outputs": [],
   "source": [
    "import ZX_to_DAG"
   ]
  },
  {
   "cell_type": "code",
   "execution_count": 42,
   "id": "6e3f1e7d",
   "metadata": {},
   "outputs": [
    {
     "name": "stdout",
     "output_type": "stream",
     "text": [
      "y1\n",
      "HAD(1)\n",
      "ZPhase(1,phase=1/4)\n",
      "HAD(1)\n",
      "ZPhase(1,phase=13/10)\n",
      "ZPhase(0,phase=1/4)\n"
     ]
    }
   ],
   "source": [
    "qc=QuantumCircuit(4)\n",
    "# qc.ccx(2,1,0)\n",
    "# qc.ccz(0,1,2)\n",
    "qc.h(1)\n",
    "# qc.ccx(1,2,3)\n",
    "qc.t(1)\n",
    "# qc.ccz(0,1,2)\n",
    "qc.h(1)\n",
    "qc.t(0)\n",
    "# qc.ccz(2,1,0)\n",
    "qc.s(1)\n",
    "# qc.ccx(2,1,0)\n",
    "# qc.crz(0.2*np.pi,0,1)\n",
    "qc.rz(0.8*np.pi,1)\n",
    "# qc.rccx(2,1,0)\n",
    "# qc.cry(0.4*np.pi,2,1)\n",
    "# qc.crx(0.02*np.pi,2,0)\n",
    "# qc.cu(30,40,50,20.0,2,3)\n",
    "# qc.ch(0,1)\n",
    "# qc.rcccx(3,1,2,0)\n",
    "\n",
    "#convert to zx circuit\n",
    "simulator = Aer.get_backend('aer_simulator')\n",
    "qc1 = transpile(qc, simulator,optimization_level=0,basis_gates=['u3','cx'])\n",
    "\n",
    "g=zx.qasm(qc1.qasm())\n",
    "mat1=get_unitary_matrix(qc1)\n",
    "d=zx_to_dag(g)\n",
    "# g1 = g.to_graph()\n",
    "# g1 = zx.extract_circuit(g1).to_basic_gates()\n",
    "# g2=zx.optimize.basic_optimization(g1)\n",
    "# qc2=ZX_to_DAG._zxcirc_to_qiskit_circ(g2) \n",
    "qc2=dag_to_circuit(d)\n",
    "\n",
    "#         mat2=get_unitary_matrix(qc2)\n",
    "qc2.save_unitary()\n",
    "result = simulator.run(qc2).result()\n",
    "mat2 = np.asarray(result.get_unitary(qc2))"
   ]
  },
  {
   "cell_type": "code",
   "execution_count": 43,
   "id": "612533be",
   "metadata": {},
   "outputs": [],
   "source": [
    "qc=QuantumCircuit(3)"
   ]
  },
  {
   "cell_type": "code",
   "execution_count": 44,
   "id": "44aef88c",
   "metadata": {},
   "outputs": [],
   "source": [
    "# qc."
   ]
  },
  {
   "cell_type": "code",
   "execution_count": 45,
   "id": "7bb535d0",
   "metadata": {},
   "outputs": [],
   "source": [
    "# qiskit.quantum_info.Clifford(qc1)"
   ]
  },
  {
   "cell_type": "code",
   "execution_count": 46,
   "id": "0cffc345",
   "metadata": {},
   "outputs": [
    {
     "data": {
      "text/plain": [
       "array([[ 0.60001176-0.70252351j,  0.        +0.j        ,\n",
       "        -0.29099476-0.24853301j,  0.        +0.j        ,\n",
       "         0.        +0.j        ,  0.        +0.j        ,\n",
       "         0.        +0.j        ,  0.        +0.j        ,\n",
       "         0.        +0.j        ,  0.        +0.j        ,\n",
       "         0.        +0.j        ,  0.        +0.j        ,\n",
       "         0.        +0.j        ,  0.        +0.j        ,\n",
       "         0.        +0.j        ,  0.        +0.j        ],\n",
       "       [ 0.        +0.j        ,  0.92103152-0.07248675j,\n",
       "         0.        +0.j        , -0.030025  -0.38150375j,\n",
       "         0.        +0.j        ,  0.        +0.j        ,\n",
       "         0.        +0.j        ,  0.        +0.j        ,\n",
       "         0.        +0.j        ,  0.        +0.j        ,\n",
       "         0.        +0.j        ,  0.        +0.j        ,\n",
       "         0.        +0.j        ,  0.        +0.j        ,\n",
       "         0.        +0.j        ,  0.        +0.j        ],\n",
       "       [-0.030025  +0.38150375j, -0.        +0.j        ,\n",
       "        -0.92103152-0.07248675j, -0.        +0.j        ,\n",
       "        -0.        +0.j        , -0.        +0.j        ,\n",
       "        -0.        +0.j        , -0.        +0.j        ,\n",
       "        -0.        +0.j        , -0.        +0.j        ,\n",
       "        -0.        +0.j        , -0.        +0.j        ,\n",
       "        -0.        +0.j        , -0.        +0.j        ,\n",
       "        -0.        +0.j        , -0.        +0.j        ],\n",
       "       [-0.        +0.j        , -0.29099476+0.24853301j,\n",
       "        -0.        +0.j        , -0.60001176-0.70252351j,\n",
       "        -0.        +0.j        , -0.        +0.j        ,\n",
       "        -0.        +0.j        , -0.        +0.j        ,\n",
       "        -0.        +0.j        , -0.        +0.j        ,\n",
       "        -0.        +0.j        , -0.        +0.j        ,\n",
       "        -0.        +0.j        , -0.        +0.j        ,\n",
       "        -0.        +0.j        , -0.        +0.j        ],\n",
       "       [ 0.        +0.j        ,  0.        +0.j        ,\n",
       "         0.        +0.j        ,  0.        +0.j        ,\n",
       "         0.60001176-0.70252351j,  0.        +0.j        ,\n",
       "        -0.29099476-0.24853301j,  0.        +0.j        ,\n",
       "         0.        +0.j        ,  0.        +0.j        ,\n",
       "         0.        +0.j        ,  0.        +0.j        ,\n",
       "         0.        +0.j        ,  0.        +0.j        ,\n",
       "         0.        +0.j        ,  0.        +0.j        ],\n",
       "       [ 0.        +0.j        ,  0.        +0.j        ,\n",
       "         0.        +0.j        ,  0.        +0.j        ,\n",
       "         0.        +0.j        ,  0.92103152-0.07248675j,\n",
       "         0.        +0.j        , -0.030025  -0.38150375j,\n",
       "         0.        +0.j        ,  0.        +0.j        ,\n",
       "         0.        +0.j        ,  0.        +0.j        ,\n",
       "         0.        +0.j        ,  0.        +0.j        ,\n",
       "         0.        +0.j        ,  0.        +0.j        ],\n",
       "       [-0.        +0.j        , -0.        +0.j        ,\n",
       "        -0.        +0.j        , -0.        +0.j        ,\n",
       "        -0.030025  +0.38150375j, -0.        +0.j        ,\n",
       "        -0.92103152-0.07248675j, -0.        +0.j        ,\n",
       "        -0.        +0.j        , -0.        +0.j        ,\n",
       "        -0.        +0.j        , -0.        +0.j        ,\n",
       "        -0.        +0.j        , -0.        +0.j        ,\n",
       "        -0.        +0.j        , -0.        +0.j        ],\n",
       "       [-0.        +0.j        , -0.        +0.j        ,\n",
       "        -0.        +0.j        , -0.        +0.j        ,\n",
       "        -0.        +0.j        , -0.29099476+0.24853301j,\n",
       "        -0.        +0.j        , -0.60001176-0.70252351j,\n",
       "        -0.        +0.j        , -0.        +0.j        ,\n",
       "        -0.        +0.j        , -0.        +0.j        ,\n",
       "        -0.        +0.j        , -0.        +0.j        ,\n",
       "        -0.        +0.j        , -0.        +0.j        ],\n",
       "       [ 0.        +0.j        ,  0.        +0.j        ,\n",
       "         0.        +0.j        ,  0.        +0.j        ,\n",
       "         0.        +0.j        ,  0.        +0.j        ,\n",
       "         0.        +0.j        ,  0.        +0.j        ,\n",
       "         0.60001176-0.70252351j,  0.        +0.j        ,\n",
       "        -0.29099476-0.24853301j,  0.        +0.j        ,\n",
       "         0.        +0.j        ,  0.        +0.j        ,\n",
       "         0.        +0.j        ,  0.        +0.j        ],\n",
       "       [ 0.        +0.j        ,  0.        +0.j        ,\n",
       "         0.        +0.j        ,  0.        +0.j        ,\n",
       "         0.        +0.j        ,  0.        +0.j        ,\n",
       "         0.        +0.j        ,  0.        +0.j        ,\n",
       "         0.        +0.j        ,  0.92103152-0.07248675j,\n",
       "         0.        +0.j        , -0.030025  -0.38150375j,\n",
       "         0.        +0.j        ,  0.        +0.j        ,\n",
       "         0.        +0.j        ,  0.        +0.j        ],\n",
       "       [-0.        +0.j        , -0.        +0.j        ,\n",
       "        -0.        +0.j        , -0.        +0.j        ,\n",
       "        -0.        +0.j        , -0.        +0.j        ,\n",
       "        -0.        +0.j        , -0.        +0.j        ,\n",
       "        -0.030025  +0.38150375j, -0.        +0.j        ,\n",
       "        -0.92103152-0.07248675j, -0.        +0.j        ,\n",
       "        -0.        +0.j        , -0.        +0.j        ,\n",
       "        -0.        +0.j        , -0.        +0.j        ],\n",
       "       [-0.        +0.j        , -0.        +0.j        ,\n",
       "        -0.        +0.j        , -0.        +0.j        ,\n",
       "        -0.        +0.j        , -0.        +0.j        ,\n",
       "        -0.        +0.j        , -0.        +0.j        ,\n",
       "        -0.        +0.j        , -0.29099476+0.24853301j,\n",
       "        -0.        +0.j        , -0.60001176-0.70252351j,\n",
       "        -0.        +0.j        , -0.        +0.j        ,\n",
       "        -0.        +0.j        , -0.        +0.j        ],\n",
       "       [ 0.        +0.j        ,  0.        +0.j        ,\n",
       "         0.        +0.j        ,  0.        +0.j        ,\n",
       "         0.        +0.j        ,  0.        +0.j        ,\n",
       "         0.        +0.j        ,  0.        +0.j        ,\n",
       "         0.        +0.j        ,  0.        +0.j        ,\n",
       "         0.        +0.j        ,  0.        +0.j        ,\n",
       "         0.60001176-0.70252351j,  0.        +0.j        ,\n",
       "        -0.29099476-0.24853301j,  0.        +0.j        ],\n",
       "       [ 0.        +0.j        ,  0.        +0.j        ,\n",
       "         0.        +0.j        ,  0.        +0.j        ,\n",
       "         0.        +0.j        ,  0.        +0.j        ,\n",
       "         0.        +0.j        ,  0.        +0.j        ,\n",
       "         0.        +0.j        ,  0.        +0.j        ,\n",
       "         0.        +0.j        ,  0.        +0.j        ,\n",
       "         0.        +0.j        ,  0.92103152-0.07248675j,\n",
       "         0.        +0.j        , -0.030025  -0.38150375j],\n",
       "       [-0.        +0.j        , -0.        +0.j        ,\n",
       "        -0.        +0.j        , -0.        +0.j        ,\n",
       "        -0.        +0.j        , -0.        +0.j        ,\n",
       "        -0.        +0.j        , -0.        +0.j        ,\n",
       "        -0.        +0.j        , -0.        +0.j        ,\n",
       "        -0.        +0.j        , -0.        +0.j        ,\n",
       "        -0.030025  +0.38150375j, -0.        +0.j        ,\n",
       "        -0.92103152-0.07248675j, -0.        +0.j        ],\n",
       "       [-0.        +0.j        , -0.        +0.j        ,\n",
       "        -0.        +0.j        , -0.        +0.j        ,\n",
       "        -0.        +0.j        , -0.        +0.j        ,\n",
       "        -0.        +0.j        , -0.        +0.j        ,\n",
       "        -0.        +0.j        , -0.        +0.j        ,\n",
       "        -0.        +0.j        , -0.        +0.j        ,\n",
       "        -0.        +0.j        , -0.29099476+0.24853301j,\n",
       "        -0.        +0.j        , -0.60001176-0.70252351j]])"
      ]
     },
     "execution_count": 46,
     "metadata": {},
     "output_type": "execute_result"
    }
   ],
   "source": [
    "mat1"
   ]
  },
  {
   "cell_type": "code",
   "execution_count": 47,
   "id": "75f40e90",
   "metadata": {},
   "outputs": [],
   "source": [
    "# np.linalg.det(mat1)"
   ]
  },
  {
   "cell_type": "code",
   "execution_count": 48,
   "id": "421cf2f6",
   "metadata": {},
   "outputs": [],
   "source": [
    "# np.linalg.det(mat2)"
   ]
  },
  {
   "cell_type": "code",
   "execution_count": 49,
   "id": "ac5c8039",
   "metadata": {},
   "outputs": [],
   "source": [
    "# mat1[:,1]"
   ]
  },
  {
   "cell_type": "code",
   "execution_count": 50,
   "id": "c71e9fc9",
   "metadata": {},
   "outputs": [],
   "source": [
    "# mat2[:,1]"
   ]
  },
  {
   "cell_type": "code",
   "execution_count": 51,
   "id": "0a525b49",
   "metadata": {},
   "outputs": [
    {
     "data": {
      "text/plain": [
       "array([[-0.70252351-0.60001176j,  0.        -0.j        ,\n",
       "        -0.24853301+0.29099476j,  0.        -0.j        ,\n",
       "         0.        -0.j        ,  0.        -0.j        ,\n",
       "         0.        -0.j        ,  0.        -0.j        ,\n",
       "         0.        -0.j        ,  0.        -0.j        ,\n",
       "         0.        -0.j        ,  0.        -0.j        ,\n",
       "         0.        -0.j        ,  0.        -0.j        ,\n",
       "         0.        -0.j        ,  0.        -0.j        ],\n",
       "       [ 0.        -0.j        , -0.07248675-0.92103152j,\n",
       "         0.        -0.j        , -0.38150375+0.030025j  ,\n",
       "         0.        -0.j        ,  0.        -0.j        ,\n",
       "         0.        -0.j        ,  0.        -0.j        ,\n",
       "         0.        -0.j        ,  0.        -0.j        ,\n",
       "         0.        -0.j        ,  0.        -0.j        ,\n",
       "         0.        -0.j        ,  0.        -0.j        ,\n",
       "         0.        -0.j        ,  0.        -0.j        ],\n",
       "       [ 0.38150375+0.030025j  , -0.        +0.j        ,\n",
       "        -0.07248675+0.92103152j, -0.        +0.j        ,\n",
       "        -0.        +0.j        , -0.        +0.j        ,\n",
       "        -0.        +0.j        , -0.        +0.j        ,\n",
       "        -0.        +0.j        , -0.        +0.j        ,\n",
       "        -0.        +0.j        , -0.        +0.j        ,\n",
       "        -0.        +0.j        , -0.        +0.j        ,\n",
       "        -0.        +0.j        , -0.        +0.j        ],\n",
       "       [-0.        +0.j        ,  0.24853301+0.29099476j,\n",
       "        -0.        +0.j        , -0.70252351+0.60001176j,\n",
       "        -0.        +0.j        , -0.        +0.j        ,\n",
       "        -0.        +0.j        , -0.        +0.j        ,\n",
       "        -0.        +0.j        , -0.        +0.j        ,\n",
       "        -0.        +0.j        , -0.        +0.j        ,\n",
       "        -0.        +0.j        , -0.        +0.j        ,\n",
       "        -0.        +0.j        , -0.        +0.j        ],\n",
       "       [ 0.        -0.j        ,  0.        -0.j        ,\n",
       "         0.        -0.j        ,  0.        -0.j        ,\n",
       "        -0.70252351-0.60001176j,  0.        -0.j        ,\n",
       "        -0.24853301+0.29099476j,  0.        -0.j        ,\n",
       "         0.        -0.j        ,  0.        -0.j        ,\n",
       "         0.        -0.j        ,  0.        -0.j        ,\n",
       "         0.        -0.j        ,  0.        -0.j        ,\n",
       "         0.        -0.j        ,  0.        -0.j        ],\n",
       "       [ 0.        -0.j        ,  0.        -0.j        ,\n",
       "         0.        -0.j        ,  0.        -0.j        ,\n",
       "         0.        -0.j        , -0.07248675-0.92103152j,\n",
       "         0.        -0.j        , -0.38150375+0.030025j  ,\n",
       "         0.        -0.j        ,  0.        -0.j        ,\n",
       "         0.        -0.j        ,  0.        -0.j        ,\n",
       "         0.        -0.j        ,  0.        -0.j        ,\n",
       "         0.        -0.j        ,  0.        -0.j        ],\n",
       "       [-0.        +0.j        , -0.        +0.j        ,\n",
       "        -0.        +0.j        , -0.        +0.j        ,\n",
       "         0.38150375+0.030025j  , -0.        +0.j        ,\n",
       "        -0.07248675+0.92103152j, -0.        +0.j        ,\n",
       "        -0.        +0.j        , -0.        +0.j        ,\n",
       "        -0.        +0.j        , -0.        +0.j        ,\n",
       "        -0.        +0.j        , -0.        +0.j        ,\n",
       "        -0.        +0.j        , -0.        +0.j        ],\n",
       "       [-0.        +0.j        , -0.        +0.j        ,\n",
       "        -0.        +0.j        , -0.        +0.j        ,\n",
       "        -0.        +0.j        ,  0.24853301+0.29099476j,\n",
       "        -0.        +0.j        , -0.70252351+0.60001176j,\n",
       "        -0.        +0.j        , -0.        +0.j        ,\n",
       "        -0.        +0.j        , -0.        +0.j        ,\n",
       "        -0.        +0.j        , -0.        +0.j        ,\n",
       "        -0.        +0.j        , -0.        +0.j        ],\n",
       "       [ 0.        -0.j        ,  0.        -0.j        ,\n",
       "         0.        -0.j        ,  0.        -0.j        ,\n",
       "         0.        -0.j        ,  0.        -0.j        ,\n",
       "         0.        -0.j        ,  0.        -0.j        ,\n",
       "        -0.70252351-0.60001176j,  0.        -0.j        ,\n",
       "        -0.24853301+0.29099476j,  0.        -0.j        ,\n",
       "         0.        -0.j        ,  0.        -0.j        ,\n",
       "         0.        -0.j        ,  0.        -0.j        ],\n",
       "       [ 0.        -0.j        ,  0.        -0.j        ,\n",
       "         0.        -0.j        ,  0.        -0.j        ,\n",
       "         0.        -0.j        ,  0.        -0.j        ,\n",
       "         0.        -0.j        ,  0.        -0.j        ,\n",
       "         0.        -0.j        , -0.07248675-0.92103152j,\n",
       "         0.        -0.j        , -0.38150375+0.030025j  ,\n",
       "         0.        -0.j        ,  0.        -0.j        ,\n",
       "         0.        -0.j        ,  0.        -0.j        ],\n",
       "       [-0.        +0.j        , -0.        +0.j        ,\n",
       "        -0.        +0.j        , -0.        +0.j        ,\n",
       "        -0.        +0.j        , -0.        +0.j        ,\n",
       "        -0.        +0.j        , -0.        +0.j        ,\n",
       "         0.38150375+0.030025j  , -0.        +0.j        ,\n",
       "        -0.07248675+0.92103152j, -0.        +0.j        ,\n",
       "        -0.        +0.j        , -0.        +0.j        ,\n",
       "        -0.        +0.j        , -0.        +0.j        ],\n",
       "       [-0.        +0.j        , -0.        +0.j        ,\n",
       "        -0.        +0.j        , -0.        +0.j        ,\n",
       "        -0.        +0.j        , -0.        +0.j        ,\n",
       "        -0.        +0.j        , -0.        +0.j        ,\n",
       "        -0.        +0.j        ,  0.24853301+0.29099476j,\n",
       "        -0.        +0.j        , -0.70252351+0.60001176j,\n",
       "        -0.        +0.j        , -0.        +0.j        ,\n",
       "        -0.        +0.j        , -0.        +0.j        ],\n",
       "       [ 0.        -0.j        ,  0.        -0.j        ,\n",
       "         0.        -0.j        ,  0.        -0.j        ,\n",
       "         0.        -0.j        ,  0.        -0.j        ,\n",
       "         0.        -0.j        ,  0.        -0.j        ,\n",
       "         0.        -0.j        ,  0.        -0.j        ,\n",
       "         0.        -0.j        ,  0.        -0.j        ,\n",
       "        -0.70252351-0.60001176j,  0.        -0.j        ,\n",
       "        -0.24853301+0.29099476j,  0.        -0.j        ],\n",
       "       [ 0.        -0.j        ,  0.        -0.j        ,\n",
       "         0.        -0.j        ,  0.        -0.j        ,\n",
       "         0.        -0.j        ,  0.        -0.j        ,\n",
       "         0.        -0.j        ,  0.        -0.j        ,\n",
       "         0.        -0.j        ,  0.        -0.j        ,\n",
       "         0.        -0.j        ,  0.        -0.j        ,\n",
       "         0.        -0.j        , -0.07248675-0.92103152j,\n",
       "         0.        -0.j        , -0.38150375+0.030025j  ],\n",
       "       [-0.        +0.j        , -0.        +0.j        ,\n",
       "        -0.        +0.j        , -0.        +0.j        ,\n",
       "        -0.        +0.j        , -0.        +0.j        ,\n",
       "        -0.        +0.j        , -0.        +0.j        ,\n",
       "        -0.        +0.j        , -0.        +0.j        ,\n",
       "        -0.        +0.j        , -0.        +0.j        ,\n",
       "         0.38150375+0.030025j  , -0.        +0.j        ,\n",
       "        -0.07248675+0.92103152j, -0.        +0.j        ],\n",
       "       [-0.        +0.j        , -0.        +0.j        ,\n",
       "        -0.        +0.j        , -0.        +0.j        ,\n",
       "        -0.        +0.j        , -0.        +0.j        ,\n",
       "        -0.        +0.j        , -0.        +0.j        ,\n",
       "        -0.        +0.j        , -0.        +0.j        ,\n",
       "        -0.        +0.j        , -0.        +0.j        ,\n",
       "        -0.        +0.j        ,  0.24853301+0.29099476j,\n",
       "        -0.        +0.j        , -0.70252351+0.60001176j]])"
      ]
     },
     "execution_count": 51,
     "metadata": {},
     "output_type": "execute_result"
    }
   ],
   "source": [
    "mat2"
   ]
  },
  {
   "cell_type": "code",
   "execution_count": 75,
   "id": "24b49fed",
   "metadata": {},
   "outputs": [],
   "source": [
    "??zx_to_dag"
   ]
  },
  {
   "cell_type": "code",
   "execution_count": 60,
   "id": "7c101545",
   "metadata": {},
   "outputs": [],
   "source": [
    "import ZX_to_DAG"
   ]
  },
  {
   "cell_type": "code",
   "execution_count": 61,
   "id": "4a6d1c08",
   "metadata": {},
   "outputs": [
    {
     "data": {
      "text/plain": [
       "<qiskit.circuit.instructionset.InstructionSet at 0x1b8fbd03c70>"
      ]
     },
     "execution_count": 61,
     "metadata": {},
     "output_type": "execute_result"
    }
   ],
   "source": [
    "qc=QuantumCircuit(4)\n",
    "qc.ccx(2,1,0)\n",
    "qc.ccz(0,1,2)\n",
    "qc.h(1)\n",
    "qc.ccx(1,2,3)\n",
    "qc.t(1)\n",
    "qc.ccz(0,1,2)\n",
    "qc.h(1)\n",
    "qc.t(0)\n",
    "qc.ccz(2,1,0)\n",
    "qc.s(1)\n",
    "qc.ccx(2,1,0)\n",
    "qc.crz(0.2*np.pi,0,1)\n",
    "qc.rz(0.8*np.pi,1)\n",
    "# qc.rccx(2,1,0)\n",
    "# qc.cry(0.4*np.pi,2,1)\n",
    "# qc.crx(0.02*np.pi,2,0)\n",
    "# qc.cu(30,40,50,20.0,2,3)\n",
    "# qc.ch(0,1)\n",
    "# qc.rcccx(3,1,2,0)"
   ]
  },
  {
   "cell_type": "code",
   "execution_count": 62,
   "id": "3bb9a25b",
   "metadata": {},
   "outputs": [],
   "source": [
    "g=zx.Circuit(4)"
   ]
  },
  {
   "cell_type": "code",
   "execution_count": 63,
   "id": "983f387c",
   "metadata": {},
   "outputs": [],
   "source": [
    "g.add_gate(zx.circuit.gates.Tofolli(2,1,0))"
   ]
  },
  {
   "cell_type": "code",
   "execution_count": 64,
   "id": "43f0b70e",
   "metadata": {},
   "outputs": [],
   "source": [
    "g.add_gate(zx.circuit.gates.CCZ(0,1,2))"
   ]
  },
  {
   "cell_type": "code",
   "execution_count": 65,
   "id": "4f70a797",
   "metadata": {},
   "outputs": [],
   "source": [
    "g.add_gate(zx.circuit.gates.HAD(1))\n",
    "g.add_gate(zx.circuit.gates.Tofolli(1,2,3))\n",
    "g.add_gate(zx.circuit.gates.T(1))\n",
    "g.add_gate(zx.circuit.gates.CCZ(0,1,2))\n",
    "g.add_gate(zx.circuit.gates.HAD(1))\n",
    "g.add_gate(zx.circuit.gates.T(0))\n",
    "g.add_gate(zx.circuit.gates.CCZ(2,1,0))\n",
    "g.add_gate(zx.circuit.gates.S(1))\n",
    "g.add_gate(zx.circuit.gates.Tofolli(2,1,0))\n",
    "g.add_gate(zx.circuit.gates.CRZ(0.2*np.pi,0,1))\n",
    "g.add_gate(zx.circuit.gates.ZPhase(0.8*np.pi,1))"
   ]
  },
  {
   "cell_type": "code",
   "execution_count": 66,
   "id": "b47cc10f",
   "metadata": {},
   "outputs": [],
   "source": [
    "# g.to_qasm()"
   ]
  },
  {
   "cell_type": "code",
   "execution_count": 67,
   "id": "071a6707",
   "metadata": {},
   "outputs": [],
   "source": [
    "#convert to zx circuit\n",
    "# simulator = Aer.get_backend('aer_simulator')\n",
    "# qc1 = transpile(qc, simulator,optimization_level=0,basis_gates=['u3','cx'])"
   ]
  },
  {
   "cell_type": "code",
   "execution_count": 68,
   "id": "077e116a",
   "metadata": {},
   "outputs": [
    {
     "name": "stderr",
     "output_type": "stream",
     "text": [
      "Simulation failed and returned the following error message:\n",
      "ERROR:  [Experiment 0] Circuit circuit-318 contains invalid instructions {\"instructions\": {save_unitary}, \"gates\": {crz, ccz}} for \"statevector\" method.\n"
     ]
    },
    {
     "ename": "QiskitError",
     "evalue": "'Data for experiment \"circuit-318\" could not be found.'",
     "output_type": "error",
     "traceback": [
      "\u001b[1;31m---------------------------------------------------------------------------\u001b[0m",
      "\u001b[1;31mQiskitError\u001b[0m                               Traceback (most recent call last)",
      "\u001b[1;32m~\\AppData\\Local\\Temp\\ipykernel_22888\\3720037158.py\u001b[0m in \u001b[0;36m<module>\u001b[1;34m\u001b[0m\n\u001b[0;32m      2\u001b[0m \u001b[0mqc\u001b[0m\u001b[1;33m.\u001b[0m\u001b[0msave_unitary\u001b[0m\u001b[1;33m(\u001b[0m\u001b[1;33m)\u001b[0m\u001b[1;33m\u001b[0m\u001b[1;33m\u001b[0m\u001b[0m\n\u001b[0;32m      3\u001b[0m \u001b[0mresult\u001b[0m \u001b[1;33m=\u001b[0m \u001b[0msimulator\u001b[0m\u001b[1;33m.\u001b[0m\u001b[0mrun\u001b[0m\u001b[1;33m(\u001b[0m\u001b[0mqc\u001b[0m\u001b[1;33m)\u001b[0m\u001b[1;33m.\u001b[0m\u001b[0mresult\u001b[0m\u001b[1;33m(\u001b[0m\u001b[1;33m)\u001b[0m\u001b[1;33m\u001b[0m\u001b[1;33m\u001b[0m\u001b[0m\n\u001b[1;32m----> 4\u001b[1;33m \u001b[0mmat1\u001b[0m \u001b[1;33m=\u001b[0m \u001b[0mnp\u001b[0m\u001b[1;33m.\u001b[0m\u001b[0masarray\u001b[0m\u001b[1;33m(\u001b[0m\u001b[0mresult\u001b[0m\u001b[1;33m.\u001b[0m\u001b[0mget_unitary\u001b[0m\u001b[1;33m(\u001b[0m\u001b[0mqc\u001b[0m\u001b[1;33m)\u001b[0m\u001b[1;33m)\u001b[0m\u001b[1;33m\u001b[0m\u001b[1;33m\u001b[0m\u001b[0m\n\u001b[0m\u001b[0;32m      5\u001b[0m \u001b[1;33m\u001b[0m\u001b[0m\n\u001b[0;32m      6\u001b[0m \u001b[0mg\u001b[0m\u001b[1;33m=\u001b[0m\u001b[0mzx\u001b[0m\u001b[1;33m.\u001b[0m\u001b[0mqasm\u001b[0m\u001b[1;33m(\u001b[0m\u001b[0mqc\u001b[0m\u001b[1;33m.\u001b[0m\u001b[0mqasm\u001b[0m\u001b[1;33m(\u001b[0m\u001b[1;33m)\u001b[0m\u001b[1;33m)\u001b[0m\u001b[1;33m\u001b[0m\u001b[1;33m\u001b[0m\u001b[0m\n",
      "\u001b[1;32m~\\anaconda3\\lib\\site-packages\\qiskit\\result\\result.py\u001b[0m in \u001b[0;36mget_unitary\u001b[1;34m(self, experiment, decimals)\u001b[0m\n\u001b[0;32m    334\u001b[0m         \"\"\"\n\u001b[0;32m    335\u001b[0m         \u001b[1;32mtry\u001b[0m\u001b[1;33m:\u001b[0m\u001b[1;33m\u001b[0m\u001b[1;33m\u001b[0m\u001b[0m\n\u001b[1;32m--> 336\u001b[1;33m             \u001b[1;32mreturn\u001b[0m \u001b[0mpostprocess\u001b[0m\u001b[1;33m.\u001b[0m\u001b[0mformat_unitary\u001b[0m\u001b[1;33m(\u001b[0m\u001b[0mself\u001b[0m\u001b[1;33m.\u001b[0m\u001b[0mdata\u001b[0m\u001b[1;33m(\u001b[0m\u001b[0mexperiment\u001b[0m\u001b[1;33m)\u001b[0m\u001b[1;33m[\u001b[0m\u001b[1;34m\"unitary\"\u001b[0m\u001b[1;33m]\u001b[0m\u001b[1;33m,\u001b[0m \u001b[0mdecimals\u001b[0m\u001b[1;33m=\u001b[0m\u001b[0mdecimals\u001b[0m\u001b[1;33m)\u001b[0m\u001b[1;33m\u001b[0m\u001b[1;33m\u001b[0m\u001b[0m\n\u001b[0m\u001b[0;32m    337\u001b[0m         \u001b[1;32mexcept\u001b[0m \u001b[0mKeyError\u001b[0m \u001b[1;32mas\u001b[0m \u001b[0mex\u001b[0m\u001b[1;33m:\u001b[0m\u001b[1;33m\u001b[0m\u001b[1;33m\u001b[0m\u001b[0m\n\u001b[0;32m    338\u001b[0m             \u001b[1;32mraise\u001b[0m \u001b[0mQiskitError\u001b[0m\u001b[1;33m(\u001b[0m\u001b[1;34mf'No unitary for experiment \"{repr(experiment)}\"'\u001b[0m\u001b[1;33m)\u001b[0m \u001b[1;32mfrom\u001b[0m \u001b[0mex\u001b[0m\u001b[1;33m\u001b[0m\u001b[1;33m\u001b[0m\u001b[0m\n",
      "\u001b[1;32m~\\anaconda3\\lib\\site-packages\\qiskit\\result\\result.py\u001b[0m in \u001b[0;36mdata\u001b[1;34m(self, experiment)\u001b[0m\n\u001b[0;32m    185\u001b[0m         \"\"\"\n\u001b[0;32m    186\u001b[0m         \u001b[1;32mtry\u001b[0m\u001b[1;33m:\u001b[0m\u001b[1;33m\u001b[0m\u001b[1;33m\u001b[0m\u001b[0m\n\u001b[1;32m--> 187\u001b[1;33m             \u001b[1;32mreturn\u001b[0m \u001b[0mself\u001b[0m\u001b[1;33m.\u001b[0m\u001b[0m_get_experiment\u001b[0m\u001b[1;33m(\u001b[0m\u001b[0mexperiment\u001b[0m\u001b[1;33m)\u001b[0m\u001b[1;33m.\u001b[0m\u001b[0mdata\u001b[0m\u001b[1;33m.\u001b[0m\u001b[0mto_dict\u001b[0m\u001b[1;33m(\u001b[0m\u001b[1;33m)\u001b[0m\u001b[1;33m\u001b[0m\u001b[1;33m\u001b[0m\u001b[0m\n\u001b[0m\u001b[0;32m    188\u001b[0m         \u001b[1;32mexcept\u001b[0m \u001b[1;33m(\u001b[0m\u001b[0mKeyError\u001b[0m\u001b[1;33m,\u001b[0m \u001b[0mTypeError\u001b[0m\u001b[1;33m)\u001b[0m \u001b[1;32mas\u001b[0m \u001b[0mex\u001b[0m\u001b[1;33m:\u001b[0m\u001b[1;33m\u001b[0m\u001b[1;33m\u001b[0m\u001b[0m\n\u001b[0;32m    189\u001b[0m             \u001b[1;32mraise\u001b[0m \u001b[0mQiskitError\u001b[0m\u001b[1;33m(\u001b[0m\u001b[1;34mf'No data for experiment \"{repr(experiment)}\"'\u001b[0m\u001b[1;33m)\u001b[0m \u001b[1;32mfrom\u001b[0m \u001b[0mex\u001b[0m\u001b[1;33m\u001b[0m\u001b[1;33m\u001b[0m\u001b[0m\n",
      "\u001b[1;32m~\\anaconda3\\lib\\site-packages\\qiskit\\result\\result.py\u001b[0m in \u001b[0;36m_get_experiment\u001b[1;34m(self, key)\u001b[0m\n\u001b[0;32m    378\u001b[0m \u001b[1;33m\u001b[0m\u001b[0m\n\u001b[0;32m    379\u001b[0m             \u001b[1;32mif\u001b[0m \u001b[0mlen\u001b[0m\u001b[1;33m(\u001b[0m\u001b[0mexp\u001b[0m\u001b[1;33m)\u001b[0m \u001b[1;33m==\u001b[0m \u001b[1;36m0\u001b[0m\u001b[1;33m:\u001b[0m\u001b[1;33m\u001b[0m\u001b[1;33m\u001b[0m\u001b[0m\n\u001b[1;32m--> 380\u001b[1;33m                 \u001b[1;32mraise\u001b[0m \u001b[0mQiskitError\u001b[0m\u001b[1;33m(\u001b[0m\u001b[1;34m'Data for experiment \"%s\" could not be found.'\u001b[0m \u001b[1;33m%\u001b[0m \u001b[0mkey\u001b[0m\u001b[1;33m)\u001b[0m\u001b[1;33m\u001b[0m\u001b[1;33m\u001b[0m\u001b[0m\n\u001b[0m\u001b[0;32m    381\u001b[0m             \u001b[1;32mif\u001b[0m \u001b[0mlen\u001b[0m\u001b[1;33m(\u001b[0m\u001b[0mexp\u001b[0m\u001b[1;33m)\u001b[0m \u001b[1;33m==\u001b[0m \u001b[1;36m1\u001b[0m\u001b[1;33m:\u001b[0m\u001b[1;33m\u001b[0m\u001b[1;33m\u001b[0m\u001b[0m\n\u001b[0;32m    382\u001b[0m                 \u001b[0mexp\u001b[0m \u001b[1;33m=\u001b[0m \u001b[0mexp\u001b[0m\u001b[1;33m[\u001b[0m\u001b[1;36m0\u001b[0m\u001b[1;33m]\u001b[0m\u001b[1;33m\u001b[0m\u001b[1;33m\u001b[0m\u001b[0m\n",
      "\u001b[1;31mQiskitError\u001b[0m: 'Data for experiment \"circuit-318\" could not be found.'"
     ]
    }
   ],
   "source": [
    "# mat1=get_unitary_matrix(qc1)\n",
    "qc.save_unitary()\n",
    "result = simulator.run(qc).result()\n",
    "mat1 = np.asarray(result.get_unitary(qc))\n",
    "\n",
    "g=zx.qasm(qc.qasm())\n",
    "g1 = g.to_graph()\n",
    "zx.simplify.full_reduce(g1)\n",
    "g1 = zx.extract_circuit(g1).to_basic_gates()\n",
    "n=g1.qubits\n",
    "qc2=QuantumCircuit(n)\n",
    "for g in g1.gates:\n",
    "    print(g)\n",
    "    if g.name == 'SWAP':\n",
    "        qc2.swap(g.control,g.target)\n",
    "    if g.name == 'HAD':\n",
    "        qc2.h(g.target)\n",
    "    if g.name == 'ZPhase':\n",
    "        qc2.rz(g.phase*np.pi,g.target)\n",
    "    if g.name == 'CZ':\n",
    "        qc2.cz(g.control, g.target)\n",
    "    if g.name == 'CNOT':\n",
    "        qc2.cx(g.control, g.target)\n",
    "    if g.name == 'S':\n",
    "        qc2.rz(g.phase*np.pi, g.target)\n",
    "    if g.name == 'T':\n",
    "        qc2.rz(g.phase*np.pi, g.target)\n",
    "    if g.name == 'XPhase':\n",
    "        qc2.rx(g.phase*np.pi, g.target) \n",
    "    if g.name == 'CCZ':\n",
    "        qc2.ccz(g.ctrl1,g.ctrl2,g.target)\n",
    "    if g.name=='CHAD':\n",
    "        qc2.ch(g.control,g.target)\n",
    "    if g.name == 'CRZ':\n",
    "        qc2.crz(g.control,g.target,g.phase)\n",
    "    if g.name=='Tof':\n",
    "        qc2.ccx(g.ctrl1,g.ctrl2,g.target) \n",
    "qc2.save_unitary()\n",
    "result = simulator.run(qc2).result()\n",
    "mat2 = np.asarray(result.get_unitary(qc2))"
   ]
  },
  {
   "cell_type": "code",
   "execution_count": 69,
   "id": "7b7723a0",
   "metadata": {},
   "outputs": [
    {
     "data": {
      "text/plain": [
       "array([[ 0.6  -0.703j,  0.   +0.j   , -0.291-0.249j,  0.   +0.j   ,\n",
       "         0.   +0.j   ,  0.   +0.j   ,  0.   +0.j   ,  0.   +0.j   ,\n",
       "         0.   +0.j   ,  0.   +0.j   ,  0.   +0.j   ,  0.   +0.j   ,\n",
       "         0.   +0.j   ,  0.   +0.j   ,  0.   +0.j   ,  0.   +0.j   ],\n",
       "       [ 0.   +0.j   ,  0.921-0.072j,  0.   +0.j   , -0.03 -0.382j,\n",
       "         0.   +0.j   ,  0.   +0.j   ,  0.   +0.j   ,  0.   +0.j   ,\n",
       "         0.   +0.j   ,  0.   +0.j   ,  0.   +0.j   ,  0.   +0.j   ,\n",
       "         0.   +0.j   ,  0.   +0.j   ,  0.   +0.j   ,  0.   +0.j   ],\n",
       "       [-0.03 +0.382j, -0.   +0.j   , -0.921-0.072j, -0.   +0.j   ,\n",
       "        -0.   +0.j   , -0.   +0.j   , -0.   +0.j   , -0.   +0.j   ,\n",
       "        -0.   +0.j   , -0.   +0.j   , -0.   +0.j   , -0.   +0.j   ,\n",
       "        -0.   +0.j   , -0.   +0.j   , -0.   +0.j   , -0.   +0.j   ],\n",
       "       [-0.   +0.j   , -0.291+0.249j, -0.   +0.j   , -0.6  -0.703j,\n",
       "        -0.   +0.j   , -0.   +0.j   , -0.   +0.j   , -0.   +0.j   ,\n",
       "        -0.   +0.j   , -0.   +0.j   , -0.   +0.j   , -0.   +0.j   ,\n",
       "        -0.   +0.j   , -0.   +0.j   , -0.   +0.j   , -0.   +0.j   ],\n",
       "       [ 0.   +0.j   ,  0.   +0.j   ,  0.   +0.j   ,  0.   +0.j   ,\n",
       "         0.6  -0.703j,  0.   +0.j   , -0.291-0.249j,  0.   +0.j   ,\n",
       "         0.   +0.j   ,  0.   +0.j   ,  0.   +0.j   ,  0.   +0.j   ,\n",
       "         0.   +0.j   ,  0.   +0.j   ,  0.   +0.j   ,  0.   +0.j   ],\n",
       "       [ 0.   +0.j   ,  0.   +0.j   ,  0.   +0.j   ,  0.   +0.j   ,\n",
       "         0.   +0.j   ,  0.921-0.072j,  0.   +0.j   , -0.03 -0.382j,\n",
       "         0.   +0.j   ,  0.   +0.j   ,  0.   +0.j   ,  0.   +0.j   ,\n",
       "         0.   +0.j   ,  0.   +0.j   ,  0.   +0.j   ,  0.   +0.j   ],\n",
       "       [-0.   +0.j   , -0.   +0.j   , -0.   +0.j   , -0.   +0.j   ,\n",
       "        -0.03 +0.382j, -0.   +0.j   , -0.921-0.072j, -0.   +0.j   ,\n",
       "        -0.   +0.j   , -0.   +0.j   , -0.   +0.j   , -0.   +0.j   ,\n",
       "        -0.   +0.j   , -0.   +0.j   , -0.   +0.j   , -0.   +0.j   ],\n",
       "       [-0.   +0.j   , -0.   +0.j   , -0.   +0.j   , -0.   +0.j   ,\n",
       "        -0.   +0.j   , -0.291+0.249j, -0.   +0.j   , -0.6  -0.703j,\n",
       "        -0.   +0.j   , -0.   +0.j   , -0.   +0.j   , -0.   +0.j   ,\n",
       "        -0.   +0.j   , -0.   +0.j   , -0.   +0.j   , -0.   +0.j   ],\n",
       "       [ 0.   +0.j   ,  0.   +0.j   ,  0.   +0.j   ,  0.   +0.j   ,\n",
       "         0.   +0.j   ,  0.   +0.j   ,  0.   +0.j   ,  0.   +0.j   ,\n",
       "         0.6  -0.703j,  0.   +0.j   , -0.291-0.249j,  0.   +0.j   ,\n",
       "         0.   +0.j   ,  0.   +0.j   ,  0.   +0.j   ,  0.   +0.j   ],\n",
       "       [ 0.   +0.j   ,  0.   +0.j   ,  0.   +0.j   ,  0.   +0.j   ,\n",
       "         0.   +0.j   ,  0.   +0.j   ,  0.   +0.j   ,  0.   +0.j   ,\n",
       "         0.   +0.j   ,  0.921-0.072j,  0.   +0.j   , -0.03 -0.382j,\n",
       "         0.   +0.j   ,  0.   +0.j   ,  0.   +0.j   ,  0.   +0.j   ],\n",
       "       [-0.   +0.j   , -0.   +0.j   , -0.   +0.j   , -0.   +0.j   ,\n",
       "        -0.   +0.j   , -0.   +0.j   , -0.   +0.j   , -0.   +0.j   ,\n",
       "        -0.03 +0.382j, -0.   +0.j   , -0.921-0.072j, -0.   +0.j   ,\n",
       "        -0.   +0.j   , -0.   +0.j   , -0.   +0.j   , -0.   +0.j   ],\n",
       "       [-0.   +0.j   , -0.   +0.j   , -0.   +0.j   , -0.   +0.j   ,\n",
       "        -0.   +0.j   , -0.   +0.j   , -0.   +0.j   , -0.   +0.j   ,\n",
       "        -0.   +0.j   , -0.291+0.249j, -0.   +0.j   , -0.6  -0.703j,\n",
       "        -0.   +0.j   , -0.   +0.j   , -0.   +0.j   , -0.   +0.j   ],\n",
       "       [ 0.   +0.j   ,  0.   +0.j   ,  0.   +0.j   ,  0.   +0.j   ,\n",
       "         0.   +0.j   ,  0.   +0.j   ,  0.   +0.j   ,  0.   +0.j   ,\n",
       "         0.   +0.j   ,  0.   +0.j   ,  0.   +0.j   ,  0.   +0.j   ,\n",
       "         0.6  -0.703j,  0.   +0.j   , -0.291-0.249j,  0.   +0.j   ],\n",
       "       [ 0.   +0.j   ,  0.   +0.j   ,  0.   +0.j   ,  0.   +0.j   ,\n",
       "         0.   +0.j   ,  0.   +0.j   ,  0.   +0.j   ,  0.   +0.j   ,\n",
       "         0.   +0.j   ,  0.   +0.j   ,  0.   +0.j   ,  0.   +0.j   ,\n",
       "         0.   +0.j   ,  0.921-0.072j,  0.   +0.j   , -0.03 -0.382j],\n",
       "       [-0.   +0.j   , -0.   +0.j   , -0.   +0.j   , -0.   +0.j   ,\n",
       "        -0.   +0.j   , -0.   +0.j   , -0.   +0.j   , -0.   +0.j   ,\n",
       "        -0.   +0.j   , -0.   +0.j   , -0.   +0.j   , -0.   +0.j   ,\n",
       "        -0.03 +0.382j, -0.   +0.j   , -0.921-0.072j, -0.   +0.j   ],\n",
       "       [-0.   +0.j   , -0.   +0.j   , -0.   +0.j   , -0.   +0.j   ,\n",
       "        -0.   +0.j   , -0.   +0.j   , -0.   +0.j   , -0.   +0.j   ,\n",
       "        -0.   +0.j   , -0.   +0.j   , -0.   +0.j   , -0.   +0.j   ,\n",
       "        -0.   +0.j   , -0.291+0.249j, -0.   +0.j   , -0.6  -0.703j]])"
      ]
     },
     "execution_count": 69,
     "metadata": {},
     "output_type": "execute_result"
    }
   ],
   "source": [
    "mat1.round(3)"
   ]
  },
  {
   "cell_type": "code",
   "execution_count": 70,
   "id": "e9b17a08",
   "metadata": {},
   "outputs": [
    {
     "data": {
      "text/plain": [
       "array([[-0.703-0.6j  ,  0.   -0.j   , -0.249+0.291j,  0.   -0.j   ,\n",
       "         0.   -0.j   ,  0.   -0.j   ,  0.   -0.j   ,  0.   -0.j   ,\n",
       "         0.   -0.j   ,  0.   -0.j   ,  0.   -0.j   ,  0.   -0.j   ,\n",
       "         0.   -0.j   ,  0.   -0.j   ,  0.   -0.j   ,  0.   -0.j   ],\n",
       "       [ 0.   -0.j   , -0.072-0.921j,  0.   -0.j   , -0.382+0.03j ,\n",
       "         0.   -0.j   ,  0.   -0.j   ,  0.   -0.j   ,  0.   -0.j   ,\n",
       "         0.   -0.j   ,  0.   -0.j   ,  0.   -0.j   ,  0.   -0.j   ,\n",
       "         0.   -0.j   ,  0.   -0.j   ,  0.   -0.j   ,  0.   -0.j   ],\n",
       "       [ 0.382+0.03j , -0.   +0.j   , -0.072+0.921j, -0.   +0.j   ,\n",
       "        -0.   +0.j   , -0.   +0.j   , -0.   +0.j   , -0.   +0.j   ,\n",
       "        -0.   +0.j   , -0.   +0.j   , -0.   +0.j   , -0.   +0.j   ,\n",
       "        -0.   +0.j   , -0.   +0.j   , -0.   +0.j   , -0.   +0.j   ],\n",
       "       [-0.   +0.j   ,  0.249+0.291j, -0.   +0.j   , -0.703+0.6j  ,\n",
       "        -0.   +0.j   , -0.   +0.j   , -0.   +0.j   , -0.   +0.j   ,\n",
       "        -0.   +0.j   , -0.   +0.j   , -0.   +0.j   , -0.   +0.j   ,\n",
       "        -0.   +0.j   , -0.   +0.j   , -0.   +0.j   , -0.   +0.j   ],\n",
       "       [ 0.   -0.j   ,  0.   -0.j   ,  0.   -0.j   ,  0.   -0.j   ,\n",
       "        -0.703-0.6j  ,  0.   -0.j   , -0.249+0.291j,  0.   -0.j   ,\n",
       "         0.   -0.j   ,  0.   -0.j   ,  0.   -0.j   ,  0.   -0.j   ,\n",
       "         0.   -0.j   ,  0.   -0.j   ,  0.   -0.j   ,  0.   -0.j   ],\n",
       "       [ 0.   -0.j   ,  0.   -0.j   ,  0.   -0.j   ,  0.   -0.j   ,\n",
       "         0.   -0.j   , -0.072-0.921j,  0.   -0.j   , -0.382+0.03j ,\n",
       "         0.   -0.j   ,  0.   -0.j   ,  0.   -0.j   ,  0.   -0.j   ,\n",
       "         0.   -0.j   ,  0.   -0.j   ,  0.   -0.j   ,  0.   -0.j   ],\n",
       "       [-0.   +0.j   , -0.   +0.j   , -0.   +0.j   , -0.   +0.j   ,\n",
       "         0.382+0.03j , -0.   +0.j   , -0.072+0.921j, -0.   +0.j   ,\n",
       "        -0.   +0.j   , -0.   +0.j   , -0.   +0.j   , -0.   +0.j   ,\n",
       "        -0.   +0.j   , -0.   +0.j   , -0.   +0.j   , -0.   +0.j   ],\n",
       "       [-0.   +0.j   , -0.   +0.j   , -0.   +0.j   , -0.   +0.j   ,\n",
       "        -0.   +0.j   ,  0.249+0.291j, -0.   +0.j   , -0.703+0.6j  ,\n",
       "        -0.   +0.j   , -0.   +0.j   , -0.   +0.j   , -0.   +0.j   ,\n",
       "        -0.   +0.j   , -0.   +0.j   , -0.   +0.j   , -0.   +0.j   ],\n",
       "       [ 0.   -0.j   ,  0.   -0.j   ,  0.   -0.j   ,  0.   -0.j   ,\n",
       "         0.   -0.j   ,  0.   -0.j   ,  0.   -0.j   ,  0.   -0.j   ,\n",
       "        -0.703-0.6j  ,  0.   -0.j   , -0.249+0.291j,  0.   -0.j   ,\n",
       "         0.   -0.j   ,  0.   -0.j   ,  0.   -0.j   ,  0.   -0.j   ],\n",
       "       [ 0.   -0.j   ,  0.   -0.j   ,  0.   -0.j   ,  0.   -0.j   ,\n",
       "         0.   -0.j   ,  0.   -0.j   ,  0.   -0.j   ,  0.   -0.j   ,\n",
       "         0.   -0.j   , -0.072-0.921j,  0.   -0.j   , -0.382+0.03j ,\n",
       "         0.   -0.j   ,  0.   -0.j   ,  0.   -0.j   ,  0.   -0.j   ],\n",
       "       [-0.   +0.j   , -0.   +0.j   , -0.   +0.j   , -0.   +0.j   ,\n",
       "        -0.   +0.j   , -0.   +0.j   , -0.   +0.j   , -0.   +0.j   ,\n",
       "         0.382+0.03j , -0.   +0.j   , -0.072+0.921j, -0.   +0.j   ,\n",
       "        -0.   +0.j   , -0.   +0.j   , -0.   +0.j   , -0.   +0.j   ],\n",
       "       [-0.   +0.j   , -0.   +0.j   , -0.   +0.j   , -0.   +0.j   ,\n",
       "        -0.   +0.j   , -0.   +0.j   , -0.   +0.j   , -0.   +0.j   ,\n",
       "        -0.   +0.j   ,  0.249+0.291j, -0.   +0.j   , -0.703+0.6j  ,\n",
       "        -0.   +0.j   , -0.   +0.j   , -0.   +0.j   , -0.   +0.j   ],\n",
       "       [ 0.   -0.j   ,  0.   -0.j   ,  0.   -0.j   ,  0.   -0.j   ,\n",
       "         0.   -0.j   ,  0.   -0.j   ,  0.   -0.j   ,  0.   -0.j   ,\n",
       "         0.   -0.j   ,  0.   -0.j   ,  0.   -0.j   ,  0.   -0.j   ,\n",
       "        -0.703-0.6j  ,  0.   -0.j   , -0.249+0.291j,  0.   -0.j   ],\n",
       "       [ 0.   -0.j   ,  0.   -0.j   ,  0.   -0.j   ,  0.   -0.j   ,\n",
       "         0.   -0.j   ,  0.   -0.j   ,  0.   -0.j   ,  0.   -0.j   ,\n",
       "         0.   -0.j   ,  0.   -0.j   ,  0.   -0.j   ,  0.   -0.j   ,\n",
       "         0.   -0.j   , -0.072-0.921j,  0.   -0.j   , -0.382+0.03j ],\n",
       "       [-0.   +0.j   , -0.   +0.j   , -0.   +0.j   , -0.   +0.j   ,\n",
       "        -0.   +0.j   , -0.   +0.j   , -0.   +0.j   , -0.   +0.j   ,\n",
       "        -0.   +0.j   , -0.   +0.j   , -0.   +0.j   , -0.   +0.j   ,\n",
       "         0.382+0.03j , -0.   +0.j   , -0.072+0.921j, -0.   +0.j   ],\n",
       "       [-0.   +0.j   , -0.   +0.j   , -0.   +0.j   , -0.   +0.j   ,\n",
       "        -0.   +0.j   , -0.   +0.j   , -0.   +0.j   , -0.   +0.j   ,\n",
       "        -0.   +0.j   , -0.   +0.j   , -0.   +0.j   , -0.   +0.j   ,\n",
       "        -0.   +0.j   ,  0.249+0.291j, -0.   +0.j   , -0.703+0.6j  ]])"
      ]
     },
     "execution_count": 70,
     "metadata": {},
     "output_type": "execute_result"
    }
   ],
   "source": [
    "mat2.round(3)"
   ]
  },
  {
   "cell_type": "code",
   "execution_count": null,
   "id": "3904504f",
   "metadata": {},
   "outputs": [],
   "source": []
  }
 ],
 "metadata": {
  "kernelspec": {
   "display_name": "Python 3 (ipykernel)",
   "language": "python",
   "name": "python3"
  },
  "language_info": {
   "codemirror_mode": {
    "name": "ipython",
    "version": 3
   },
   "file_extension": ".py",
   "mimetype": "text/x-python",
   "name": "python",
   "nbconvert_exporter": "python",
   "pygments_lexer": "ipython3",
   "version": "3.9.13"
  }
 },
 "nbformat": 4,
 "nbformat_minor": 5
}
